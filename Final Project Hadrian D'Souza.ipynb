{
 "cells": [
  {
   "cell_type": "markdown",
   "metadata": {},
   "source": [
    "# Final Project Data Science"
   ]
  },
  {
   "cell_type": "markdown",
   "metadata": {},
   "source": [
    "## Importing Libraries"
   ]
  },
  {
   "cell_type": "code",
   "execution_count": 1,
   "metadata": {},
   "outputs": [],
   "source": [
    "#Import section\n",
    "import pandas as pd\n",
    "import numpy as np\n",
    "import matplotlib.pyplot as plt\n",
    "import statsmodels.formula.api as smf \n",
    "from scipy import stats, special\n",
    "from seaborn import pairplot, heatmap, distplot"
   ]
  },
  {
   "cell_type": "markdown",
   "metadata": {},
   "source": [
    "## PROJECT PART I: Data Cleaning and Manipulation"
   ]
  },
  {
   "cell_type": "markdown",
   "metadata": {},
   "source": [
    "### Importing Data"
   ]
  },
  {
   "cell_type": "code",
   "execution_count": 2,
   "metadata": {},
   "outputs": [
    {
     "data": {
      "text/html": [
       "<div>\n",
       "<style scoped>\n",
       "    .dataframe tbody tr th:only-of-type {\n",
       "        vertical-align: middle;\n",
       "    }\n",
       "\n",
       "    .dataframe tbody tr th {\n",
       "        vertical-align: top;\n",
       "    }\n",
       "\n",
       "    .dataframe thead th {\n",
       "        text-align: right;\n",
       "    }\n",
       "</style>\n",
       "<table border=\"1\" class=\"dataframe\">\n",
       "  <thead>\n",
       "    <tr style=\"text-align: right;\">\n",
       "      <th></th>\n",
       "      <th>Date</th>\n",
       "      <th>Tweet</th>\n",
       "      <th>Retweet from</th>\n",
       "      <th>User</th>\n",
       "    </tr>\n",
       "  </thead>\n",
       "  <tbody>\n",
       "    <tr>\n",
       "      <th>0</th>\n",
       "      <td>41229</td>\n",
       "      <td>RT @Jon_Favreau: My Model S just arrived and I...</td>\n",
       "      <td>Jon_Favreau</td>\n",
       "      <td>elonmusk</td>\n",
       "    </tr>\n",
       "    <tr>\n",
       "      <th>1</th>\n",
       "      <td>41232</td>\n",
       "      <td>Just returned from a trip to London and Oxford...</td>\n",
       "      <td>NaN</td>\n",
       "      <td>elonmusk</td>\n",
       "    </tr>\n",
       "    <tr>\n",
       "      <th>2</th>\n",
       "      <td>41233</td>\n",
       "      <td>Btw, I don't think Apple is doomed. Just won't...</td>\n",
       "      <td>NaN</td>\n",
       "      <td>elonmusk</td>\n",
       "    </tr>\n",
       "    <tr>\n",
       "      <th>3</th>\n",
       "      <td>41233</td>\n",
       "      <td>Mass. judge denies auto dealers' demand to kil...</td>\n",
       "      <td>NaN</td>\n",
       "      <td>elonmusk</td>\n",
       "    </tr>\n",
       "    <tr>\n",
       "      <th>4</th>\n",
       "      <td>41233</td>\n",
       "      <td>@YOUSRC Amos's article was fair, but his edito...</td>\n",
       "      <td>NaN</td>\n",
       "      <td>elonmusk</td>\n",
       "    </tr>\n",
       "  </tbody>\n",
       "</table>\n",
       "</div>"
      ],
      "text/plain": [
       "    Date                                              Tweet Retweet from  \\\n",
       "0  41229  RT @Jon_Favreau: My Model S just arrived and I...  Jon_Favreau   \n",
       "1  41232  Just returned from a trip to London and Oxford...          NaN   \n",
       "2  41233  Btw, I don't think Apple is doomed. Just won't...          NaN   \n",
       "3  41233  Mass. judge denies auto dealers' demand to kil...          NaN   \n",
       "4  41233  @YOUSRC Amos's article was fair, but his edito...          NaN   \n",
       "\n",
       "       User  \n",
       "0  elonmusk  \n",
       "1  elonmusk  \n",
       "2  elonmusk  \n",
       "3  elonmusk  \n",
       "4  elonmusk  "
      ]
     },
     "execution_count": 2,
     "metadata": {},
     "output_type": "execute_result"
    }
   ],
   "source": [
    "datafile1 = './data_elonmusk.csv'\n",
    "#my_data1 = pd.read_csv(datafile1, encoding='latin1', index_col='Date', parse_dates=True) Initially used but had issues with Date Parsing\n",
    "my_data1 = pd.read_csv(datafile1, encoding='latin1')\n",
    "my_data1.head()"
   ]
  },
  {
   "cell_type": "code",
   "execution_count": 3,
   "metadata": {},
   "outputs": [
    {
     "data": {
      "text/html": [
       "<div>\n",
       "<style scoped>\n",
       "    .dataframe tbody tr th:only-of-type {\n",
       "        vertical-align: middle;\n",
       "    }\n",
       "\n",
       "    .dataframe tbody tr th {\n",
       "        vertical-align: top;\n",
       "    }\n",
       "\n",
       "    .dataframe thead th {\n",
       "        text-align: right;\n",
       "    }\n",
       "</style>\n",
       "<table border=\"1\" class=\"dataframe\">\n",
       "  <thead>\n",
       "    <tr style=\"text-align: right;\">\n",
       "      <th></th>\n",
       "      <th>Quarter</th>\n",
       "      <th>Actual production</th>\n",
       "      <th>Actual Delivery</th>\n",
       "      <th>Production rate per week</th>\n",
       "    </tr>\n",
       "    <tr>\n",
       "      <th>SHL Date</th>\n",
       "      <th></th>\n",
       "      <th></th>\n",
       "      <th></th>\n",
       "      <th></th>\n",
       "    </tr>\n",
       "  </thead>\n",
       "  <tbody>\n",
       "    <tr>\n",
       "      <th>2013-02-20</th>\n",
       "      <td>Q4 2012</td>\n",
       "      <td>2750.0</td>\n",
       "      <td>NaN</td>\n",
       "      <td>400.0</td>\n",
       "    </tr>\n",
       "    <tr>\n",
       "      <th>2013-05-08</th>\n",
       "      <td>Q1 2013</td>\n",
       "      <td>4900.0</td>\n",
       "      <td>NaN</td>\n",
       "      <td>400.0</td>\n",
       "    </tr>\n",
       "    <tr>\n",
       "      <th>2013-08-07</th>\n",
       "      <td>Q2 2013</td>\n",
       "      <td>5150.0</td>\n",
       "      <td>NaN</td>\n",
       "      <td>500.0</td>\n",
       "    </tr>\n",
       "    <tr>\n",
       "      <th>2013-11-05</th>\n",
       "      <td>Q3 2013</td>\n",
       "      <td>5500.0</td>\n",
       "      <td>NaN</td>\n",
       "      <td>550.0</td>\n",
       "    </tr>\n",
       "    <tr>\n",
       "      <th>2014-02-19</th>\n",
       "      <td>Q4 2013</td>\n",
       "      <td>6892.0</td>\n",
       "      <td>6892.0</td>\n",
       "      <td>600.0</td>\n",
       "    </tr>\n",
       "  </tbody>\n",
       "</table>\n",
       "</div>"
      ],
      "text/plain": [
       "            Quarter  Actual production  Actual Delivery  \\\n",
       "SHL Date                                                  \n",
       "2013-02-20  Q4 2012             2750.0              NaN   \n",
       "2013-05-08  Q1 2013             4900.0              NaN   \n",
       "2013-08-07  Q2 2013             5150.0              NaN   \n",
       "2013-11-05  Q3 2013             5500.0              NaN   \n",
       "2014-02-19  Q4 2013             6892.0           6892.0   \n",
       "\n",
       "            Production rate per week  \n",
       "SHL Date                              \n",
       "2013-02-20                     400.0  \n",
       "2013-05-08                     400.0  \n",
       "2013-08-07                     500.0  \n",
       "2013-11-05                     550.0  \n",
       "2014-02-19                     600.0  "
      ]
     },
     "execution_count": 3,
     "metadata": {},
     "output_type": "execute_result"
    }
   ],
   "source": [
    "datafile2 = './data_teslaproduction.csv'\n",
    "#my_data2 = pd.read_csv(datafile2, index_col='SHL Date', parse_dates=True) Initially used but had issues with Date Parsing\n",
    "my_data2 = pd.read_csv(datafile2, parse_dates=[0], index_col=0)\n",
    "my_data2.head()"
   ]
  },
  {
   "cell_type": "code",
   "execution_count": 4,
   "metadata": {},
   "outputs": [
    {
     "data": {
      "text/html": [
       "<div>\n",
       "<style scoped>\n",
       "    .dataframe tbody tr th:only-of-type {\n",
       "        vertical-align: middle;\n",
       "    }\n",
       "\n",
       "    .dataframe tbody tr th {\n",
       "        vertical-align: top;\n",
       "    }\n",
       "\n",
       "    .dataframe thead th {\n",
       "        text-align: right;\n",
       "    }\n",
       "</style>\n",
       "<table border=\"1\" class=\"dataframe\">\n",
       "  <thead>\n",
       "    <tr style=\"text-align: right;\">\n",
       "      <th></th>\n",
       "      <th>Date</th>\n",
       "      <th>Open</th>\n",
       "      <th>High</th>\n",
       "      <th>Low</th>\n",
       "      <th>Close</th>\n",
       "      <th>Adj Close</th>\n",
       "      <th>Volume</th>\n",
       "    </tr>\n",
       "  </thead>\n",
       "  <tbody>\n",
       "    <tr>\n",
       "      <th>0</th>\n",
       "      <td>40911.0</td>\n",
       "      <td>28.9</td>\n",
       "      <td>29.5</td>\n",
       "      <td>27.7</td>\n",
       "      <td>28.1</td>\n",
       "      <td>28.1</td>\n",
       "      <td>928100</td>\n",
       "    </tr>\n",
       "    <tr>\n",
       "      <th>1</th>\n",
       "      <td>40912.0</td>\n",
       "      <td>28.2</td>\n",
       "      <td>28.7</td>\n",
       "      <td>27.5</td>\n",
       "      <td>27.7</td>\n",
       "      <td>27.7</td>\n",
       "      <td>630100</td>\n",
       "    </tr>\n",
       "    <tr>\n",
       "      <th>2</th>\n",
       "      <td>40913.0</td>\n",
       "      <td>27.8</td>\n",
       "      <td>27.9</td>\n",
       "      <td>26.9</td>\n",
       "      <td>27.1</td>\n",
       "      <td>27.1</td>\n",
       "      <td>1005500</td>\n",
       "    </tr>\n",
       "    <tr>\n",
       "      <th>3</th>\n",
       "      <td>40914.0</td>\n",
       "      <td>27.2</td>\n",
       "      <td>27.8</td>\n",
       "      <td>26.4</td>\n",
       "      <td>26.9</td>\n",
       "      <td>26.9</td>\n",
       "      <td>986300</td>\n",
       "    </tr>\n",
       "    <tr>\n",
       "      <th>4</th>\n",
       "      <td>40917.0</td>\n",
       "      <td>27.0</td>\n",
       "      <td>27.5</td>\n",
       "      <td>26.1</td>\n",
       "      <td>27.3</td>\n",
       "      <td>27.3</td>\n",
       "      <td>897000</td>\n",
       "    </tr>\n",
       "  </tbody>\n",
       "</table>\n",
       "</div>"
      ],
      "text/plain": [
       "      Date  Open  High   Low  Close  Adj Close   Volume\n",
       "0  40911.0  28.9  29.5  27.7   28.1       28.1   928100\n",
       "1  40912.0  28.2  28.7  27.5   27.7       27.7   630100\n",
       "2  40913.0  27.8  27.9  26.9   27.1       27.1  1005500\n",
       "3  40914.0  27.2  27.8  26.4   26.9       26.9   986300\n",
       "4  40917.0  27.0  27.5  26.1   27.3       27.3   897000"
      ]
     },
     "execution_count": 4,
     "metadata": {},
     "output_type": "execute_result"
    }
   ],
   "source": [
    "datafile3 = './data_teslastock.csv'\n",
    "#my_data3 = pd.read_csv(datafile3, index_col='Date', parse_dates=True) Initially used but had issues with Date Parsing\n",
    "my_data3 = pd.read_csv(datafile3)\n",
    "my_data3.head()"
   ]
  },
  {
   "cell_type": "markdown",
   "metadata": {},
   "source": [
    "### Converting Date to Datetime format, then making it the Index"
   ]
  },
  {
   "cell_type": "code",
   "execution_count": 5,
   "metadata": {},
   "outputs": [
    {
     "data": {
      "text/html": [
       "<div>\n",
       "<style scoped>\n",
       "    .dataframe tbody tr th:only-of-type {\n",
       "        vertical-align: middle;\n",
       "    }\n",
       "\n",
       "    .dataframe tbody tr th {\n",
       "        vertical-align: top;\n",
       "    }\n",
       "\n",
       "    .dataframe thead th {\n",
       "        text-align: right;\n",
       "    }\n",
       "</style>\n",
       "<table border=\"1\" class=\"dataframe\">\n",
       "  <thead>\n",
       "    <tr style=\"text-align: right;\">\n",
       "      <th></th>\n",
       "      <th>Tweet</th>\n",
       "      <th>Retweet from</th>\n",
       "      <th>User</th>\n",
       "    </tr>\n",
       "    <tr>\n",
       "      <th>Date</th>\n",
       "      <th></th>\n",
       "      <th></th>\n",
       "      <th></th>\n",
       "    </tr>\n",
       "  </thead>\n",
       "  <tbody>\n",
       "    <tr>\n",
       "      <th>2012-11-18</th>\n",
       "      <td>RT @Jon_Favreau: My Model S just arrived and I...</td>\n",
       "      <td>Jon_Favreau</td>\n",
       "      <td>elonmusk</td>\n",
       "    </tr>\n",
       "    <tr>\n",
       "      <th>2012-11-21</th>\n",
       "      <td>Just returned from a trip to London and Oxford...</td>\n",
       "      <td>NaN</td>\n",
       "      <td>elonmusk</td>\n",
       "    </tr>\n",
       "    <tr>\n",
       "      <th>2012-11-22</th>\n",
       "      <td>Btw, I don't think Apple is doomed. Just won't...</td>\n",
       "      <td>NaN</td>\n",
       "      <td>elonmusk</td>\n",
       "    </tr>\n",
       "    <tr>\n",
       "      <th>2012-11-22</th>\n",
       "      <td>Mass. judge denies auto dealers' demand to kil...</td>\n",
       "      <td>NaN</td>\n",
       "      <td>elonmusk</td>\n",
       "    </tr>\n",
       "    <tr>\n",
       "      <th>2012-11-22</th>\n",
       "      <td>@YOUSRC Amos's article was fair, but his edito...</td>\n",
       "      <td>NaN</td>\n",
       "      <td>elonmusk</td>\n",
       "    </tr>\n",
       "  </tbody>\n",
       "</table>\n",
       "</div>"
      ],
      "text/plain": [
       "                                                        Tweet Retweet from  \\\n",
       "Date                                                                         \n",
       "2012-11-18  RT @Jon_Favreau: My Model S just arrived and I...  Jon_Favreau   \n",
       "2012-11-21  Just returned from a trip to London and Oxford...          NaN   \n",
       "2012-11-22  Btw, I don't think Apple is doomed. Just won't...          NaN   \n",
       "2012-11-22  Mass. judge denies auto dealers' demand to kil...          NaN   \n",
       "2012-11-22  @YOUSRC Amos's article was fair, but his edito...          NaN   \n",
       "\n",
       "                User  \n",
       "Date                  \n",
       "2012-11-18  elonmusk  \n",
       "2012-11-21  elonmusk  \n",
       "2012-11-22  elonmusk  \n",
       "2012-11-22  elonmusk  \n",
       "2012-11-22  elonmusk  "
      ]
     },
     "execution_count": 5,
     "metadata": {},
     "output_type": "execute_result"
    }
   ],
   "source": [
    "my_data1['Date'] = pd.to_datetime(my_data1['Date'],errors='coerce',unit='d',origin='1900-01-01')\n",
    "my_data1.set_index('Date', inplace=True)\n",
    "my_data1.head()"
   ]
  },
  {
   "cell_type": "code",
   "execution_count": 6,
   "metadata": {},
   "outputs": [
    {
     "data": {
      "text/html": [
       "<div>\n",
       "<style scoped>\n",
       "    .dataframe tbody tr th:only-of-type {\n",
       "        vertical-align: middle;\n",
       "    }\n",
       "\n",
       "    .dataframe tbody tr th {\n",
       "        vertical-align: top;\n",
       "    }\n",
       "\n",
       "    .dataframe thead th {\n",
       "        text-align: right;\n",
       "    }\n",
       "</style>\n",
       "<table border=\"1\" class=\"dataframe\">\n",
       "  <thead>\n",
       "    <tr style=\"text-align: right;\">\n",
       "      <th></th>\n",
       "      <th>Quarter</th>\n",
       "      <th>Actual production</th>\n",
       "      <th>Actual Delivery</th>\n",
       "      <th>Production rate per week</th>\n",
       "    </tr>\n",
       "    <tr>\n",
       "      <th>Date</th>\n",
       "      <th></th>\n",
       "      <th></th>\n",
       "      <th></th>\n",
       "      <th></th>\n",
       "    </tr>\n",
       "  </thead>\n",
       "  <tbody>\n",
       "    <tr>\n",
       "      <th>2013-02-20</th>\n",
       "      <td>Q4 2012</td>\n",
       "      <td>2750.0</td>\n",
       "      <td>NaN</td>\n",
       "      <td>400.0</td>\n",
       "    </tr>\n",
       "    <tr>\n",
       "      <th>2013-05-08</th>\n",
       "      <td>Q1 2013</td>\n",
       "      <td>4900.0</td>\n",
       "      <td>NaN</td>\n",
       "      <td>400.0</td>\n",
       "    </tr>\n",
       "    <tr>\n",
       "      <th>2013-08-07</th>\n",
       "      <td>Q2 2013</td>\n",
       "      <td>5150.0</td>\n",
       "      <td>NaN</td>\n",
       "      <td>500.0</td>\n",
       "    </tr>\n",
       "    <tr>\n",
       "      <th>2013-11-05</th>\n",
       "      <td>Q3 2013</td>\n",
       "      <td>5500.0</td>\n",
       "      <td>NaN</td>\n",
       "      <td>550.0</td>\n",
       "    </tr>\n",
       "    <tr>\n",
       "      <th>2014-02-19</th>\n",
       "      <td>Q4 2013</td>\n",
       "      <td>6892.0</td>\n",
       "      <td>6892.0</td>\n",
       "      <td>600.0</td>\n",
       "    </tr>\n",
       "  </tbody>\n",
       "</table>\n",
       "</div>"
      ],
      "text/plain": [
       "            Quarter  Actual production  Actual Delivery  \\\n",
       "Date                                                      \n",
       "2013-02-20  Q4 2012             2750.0              NaN   \n",
       "2013-05-08  Q1 2013             4900.0              NaN   \n",
       "2013-08-07  Q2 2013             5150.0              NaN   \n",
       "2013-11-05  Q3 2013             5500.0              NaN   \n",
       "2014-02-19  Q4 2013             6892.0           6892.0   \n",
       "\n",
       "            Production rate per week  \n",
       "Date                                  \n",
       "2013-02-20                     400.0  \n",
       "2013-05-08                     400.0  \n",
       "2013-08-07                     500.0  \n",
       "2013-11-05                     550.0  \n",
       "2014-02-19                     600.0  "
      ]
     },
     "execution_count": 6,
     "metadata": {},
     "output_type": "execute_result"
    }
   ],
   "source": [
    "my_data2.index.name = 'Date'\n",
    "my_data2.head()"
   ]
  },
  {
   "cell_type": "code",
   "execution_count": 7,
   "metadata": {},
   "outputs": [
    {
     "data": {
      "text/html": [
       "<div>\n",
       "<style scoped>\n",
       "    .dataframe tbody tr th:only-of-type {\n",
       "        vertical-align: middle;\n",
       "    }\n",
       "\n",
       "    .dataframe tbody tr th {\n",
       "        vertical-align: top;\n",
       "    }\n",
       "\n",
       "    .dataframe thead th {\n",
       "        text-align: right;\n",
       "    }\n",
       "</style>\n",
       "<table border=\"1\" class=\"dataframe\">\n",
       "  <thead>\n",
       "    <tr style=\"text-align: right;\">\n",
       "      <th></th>\n",
       "      <th>Open</th>\n",
       "      <th>High</th>\n",
       "      <th>Low</th>\n",
       "      <th>Close</th>\n",
       "      <th>Adj Close</th>\n",
       "      <th>Volume</th>\n",
       "    </tr>\n",
       "    <tr>\n",
       "      <th>Date</th>\n",
       "      <th></th>\n",
       "      <th></th>\n",
       "      <th></th>\n",
       "      <th></th>\n",
       "      <th></th>\n",
       "      <th></th>\n",
       "    </tr>\n",
       "  </thead>\n",
       "  <tbody>\n",
       "    <tr>\n",
       "      <th>2012-01-05</th>\n",
       "      <td>28.9</td>\n",
       "      <td>29.5</td>\n",
       "      <td>27.7</td>\n",
       "      <td>28.1</td>\n",
       "      <td>28.1</td>\n",
       "      <td>928100</td>\n",
       "    </tr>\n",
       "    <tr>\n",
       "      <th>2012-01-06</th>\n",
       "      <td>28.2</td>\n",
       "      <td>28.7</td>\n",
       "      <td>27.5</td>\n",
       "      <td>27.7</td>\n",
       "      <td>27.7</td>\n",
       "      <td>630100</td>\n",
       "    </tr>\n",
       "    <tr>\n",
       "      <th>2012-01-07</th>\n",
       "      <td>27.8</td>\n",
       "      <td>27.9</td>\n",
       "      <td>26.9</td>\n",
       "      <td>27.1</td>\n",
       "      <td>27.1</td>\n",
       "      <td>1005500</td>\n",
       "    </tr>\n",
       "    <tr>\n",
       "      <th>2012-01-08</th>\n",
       "      <td>27.2</td>\n",
       "      <td>27.8</td>\n",
       "      <td>26.4</td>\n",
       "      <td>26.9</td>\n",
       "      <td>26.9</td>\n",
       "      <td>986300</td>\n",
       "    </tr>\n",
       "    <tr>\n",
       "      <th>2012-01-11</th>\n",
       "      <td>27.0</td>\n",
       "      <td>27.5</td>\n",
       "      <td>26.1</td>\n",
       "      <td>27.3</td>\n",
       "      <td>27.3</td>\n",
       "      <td>897000</td>\n",
       "    </tr>\n",
       "  </tbody>\n",
       "</table>\n",
       "</div>"
      ],
      "text/plain": [
       "            Open  High   Low  Close  Adj Close   Volume\n",
       "Date                                                   \n",
       "2012-01-05  28.9  29.5  27.7   28.1       28.1   928100\n",
       "2012-01-06  28.2  28.7  27.5   27.7       27.7   630100\n",
       "2012-01-07  27.8  27.9  26.9   27.1       27.1  1005500\n",
       "2012-01-08  27.2  27.8  26.4   26.9       26.9   986300\n",
       "2012-01-11  27.0  27.5  26.1   27.3       27.3   897000"
      ]
     },
     "execution_count": 7,
     "metadata": {},
     "output_type": "execute_result"
    }
   ],
   "source": [
    "my_data3['Date'] = pd.to_datetime(my_data3['Date'],errors='coerce',unit='d',origin='1900-01-01')\n",
    "my_data3.set_index('Date', inplace=True)\n",
    "my_data3.head()"
   ]
  },
  {
   "cell_type": "markdown",
   "metadata": {},
   "source": [
    "### Filtering Tweets based on content - Tesla, tesla"
   ]
  },
  {
   "cell_type": "code",
   "execution_count": 18,
   "metadata": {},
   "outputs": [],
   "source": [
    "my_data1 = my_data1[my_data1['Tweet'].str.contains('Tesla|tesla')]"
   ]
  },
  {
   "cell_type": "markdown",
   "metadata": {},
   "source": [
    "### Creating 'Tweet Count' and new table my_data1new"
   ]
  },
  {
   "cell_type": "code",
   "execution_count": 19,
   "metadata": {},
   "outputs": [
    {
     "data": {
      "text/html": [
       "<div>\n",
       "<style scoped>\n",
       "    .dataframe tbody tr th:only-of-type {\n",
       "        vertical-align: middle;\n",
       "    }\n",
       "\n",
       "    .dataframe tbody tr th {\n",
       "        vertical-align: top;\n",
       "    }\n",
       "\n",
       "    .dataframe thead th {\n",
       "        text-align: right;\n",
       "    }\n",
       "</style>\n",
       "<table border=\"1\" class=\"dataframe\">\n",
       "  <thead>\n",
       "    <tr style=\"text-align: right;\">\n",
       "      <th></th>\n",
       "      <th>Tweet Count</th>\n",
       "    </tr>\n",
       "    <tr>\n",
       "      <th>Date</th>\n",
       "      <th></th>\n",
       "    </tr>\n",
       "  </thead>\n",
       "  <tbody>\n",
       "    <tr>\n",
       "      <th>2012-11-18</th>\n",
       "      <td>1</td>\n",
       "    </tr>\n",
       "    <tr>\n",
       "      <th>2012-11-22</th>\n",
       "      <td>1</td>\n",
       "    </tr>\n",
       "    <tr>\n",
       "      <th>2012-12-06</th>\n",
       "      <td>1</td>\n",
       "    </tr>\n",
       "    <tr>\n",
       "      <th>2012-12-11</th>\n",
       "      <td>1</td>\n",
       "    </tr>\n",
       "    <tr>\n",
       "      <th>2012-12-13</th>\n",
       "      <td>1</td>\n",
       "    </tr>\n",
       "  </tbody>\n",
       "</table>\n",
       "</div>"
      ],
      "text/plain": [
       "            Tweet Count\n",
       "Date                   \n",
       "2012-11-18            1\n",
       "2012-11-22            1\n",
       "2012-12-06            1\n",
       "2012-12-11            1\n",
       "2012-12-13            1"
      ]
     },
     "execution_count": 19,
     "metadata": {},
     "output_type": "execute_result"
    }
   ],
   "source": [
    "grouped = my_data1.groupby('Date') #grouping multiple tweets per day\n",
    "my_data1new = grouped.agg(len)\n",
    "my_data1new.rename(columns={'Tweet':'Tweet Count'}, inplace=True)\n",
    "my_data1new.drop(['Retweet from', 'User'], axis=1, inplace=True)\n",
    "my_data1new.head()"
   ]
  },
  {
   "cell_type": "markdown",
   "metadata": {},
   "source": [
    "### Dropping 'Quarter' from my_data2"
   ]
  },
  {
   "cell_type": "code",
   "execution_count": 20,
   "metadata": {},
   "outputs": [
    {
     "data": {
      "text/html": [
       "<div>\n",
       "<style scoped>\n",
       "    .dataframe tbody tr th:only-of-type {\n",
       "        vertical-align: middle;\n",
       "    }\n",
       "\n",
       "    .dataframe tbody tr th {\n",
       "        vertical-align: top;\n",
       "    }\n",
       "\n",
       "    .dataframe thead th {\n",
       "        text-align: right;\n",
       "    }\n",
       "</style>\n",
       "<table border=\"1\" class=\"dataframe\">\n",
       "  <thead>\n",
       "    <tr style=\"text-align: right;\">\n",
       "      <th></th>\n",
       "      <th>Actual production</th>\n",
       "      <th>Actual Delivery</th>\n",
       "      <th>Production rate per week</th>\n",
       "    </tr>\n",
       "    <tr>\n",
       "      <th>Date</th>\n",
       "      <th></th>\n",
       "      <th></th>\n",
       "      <th></th>\n",
       "    </tr>\n",
       "  </thead>\n",
       "  <tbody>\n",
       "    <tr>\n",
       "      <th>2013-02-20</th>\n",
       "      <td>2750.0</td>\n",
       "      <td>NaN</td>\n",
       "      <td>400.0</td>\n",
       "    </tr>\n",
       "    <tr>\n",
       "      <th>2013-05-08</th>\n",
       "      <td>4900.0</td>\n",
       "      <td>NaN</td>\n",
       "      <td>400.0</td>\n",
       "    </tr>\n",
       "    <tr>\n",
       "      <th>2013-08-07</th>\n",
       "      <td>5150.0</td>\n",
       "      <td>NaN</td>\n",
       "      <td>500.0</td>\n",
       "    </tr>\n",
       "    <tr>\n",
       "      <th>2013-11-05</th>\n",
       "      <td>5500.0</td>\n",
       "      <td>NaN</td>\n",
       "      <td>550.0</td>\n",
       "    </tr>\n",
       "    <tr>\n",
       "      <th>2014-02-19</th>\n",
       "      <td>6892.0</td>\n",
       "      <td>6892.0</td>\n",
       "      <td>600.0</td>\n",
       "    </tr>\n",
       "  </tbody>\n",
       "</table>\n",
       "</div>"
      ],
      "text/plain": [
       "            Actual production  Actual Delivery  Production rate per week\n",
       "Date                                                                    \n",
       "2013-02-20             2750.0              NaN                     400.0\n",
       "2013-05-08             4900.0              NaN                     400.0\n",
       "2013-08-07             5150.0              NaN                     500.0\n",
       "2013-11-05             5500.0              NaN                     550.0\n",
       "2014-02-19             6892.0           6892.0                     600.0"
      ]
     },
     "execution_count": 20,
     "metadata": {},
     "output_type": "execute_result"
    }
   ],
   "source": [
    "my_data2.drop(['Quarter'], axis=1, inplace=True)\n",
    "my_data2.head()"
   ]
  },
  {
   "cell_type": "markdown",
   "metadata": {},
   "source": [
    "### Dropping 'Open', 'High', 'Low', 'Close' in my_data3 & setting column 'Adj. Close' to 'Price' from my_data3"
   ]
  },
  {
   "cell_type": "code",
   "execution_count": 21,
   "metadata": {},
   "outputs": [
    {
     "data": {
      "text/html": [
       "<div>\n",
       "<style scoped>\n",
       "    .dataframe tbody tr th:only-of-type {\n",
       "        vertical-align: middle;\n",
       "    }\n",
       "\n",
       "    .dataframe tbody tr th {\n",
       "        vertical-align: top;\n",
       "    }\n",
       "\n",
       "    .dataframe thead th {\n",
       "        text-align: right;\n",
       "    }\n",
       "</style>\n",
       "<table border=\"1\" class=\"dataframe\">\n",
       "  <thead>\n",
       "    <tr style=\"text-align: right;\">\n",
       "      <th></th>\n",
       "      <th>Price</th>\n",
       "      <th>Volume</th>\n",
       "    </tr>\n",
       "    <tr>\n",
       "      <th>Date</th>\n",
       "      <th></th>\n",
       "      <th></th>\n",
       "    </tr>\n",
       "  </thead>\n",
       "  <tbody>\n",
       "    <tr>\n",
       "      <th>2012-01-05</th>\n",
       "      <td>28.1</td>\n",
       "      <td>928100</td>\n",
       "    </tr>\n",
       "    <tr>\n",
       "      <th>2012-01-06</th>\n",
       "      <td>27.7</td>\n",
       "      <td>630100</td>\n",
       "    </tr>\n",
       "    <tr>\n",
       "      <th>2012-01-07</th>\n",
       "      <td>27.1</td>\n",
       "      <td>1005500</td>\n",
       "    </tr>\n",
       "    <tr>\n",
       "      <th>2012-01-08</th>\n",
       "      <td>26.9</td>\n",
       "      <td>986300</td>\n",
       "    </tr>\n",
       "    <tr>\n",
       "      <th>2012-01-11</th>\n",
       "      <td>27.3</td>\n",
       "      <td>897000</td>\n",
       "    </tr>\n",
       "  </tbody>\n",
       "</table>\n",
       "</div>"
      ],
      "text/plain": [
       "            Price   Volume\n",
       "Date                      \n",
       "2012-01-05   28.1   928100\n",
       "2012-01-06   27.7   630100\n",
       "2012-01-07   27.1  1005500\n",
       "2012-01-08   26.9   986300\n",
       "2012-01-11   27.3   897000"
      ]
     },
     "execution_count": 21,
     "metadata": {},
     "output_type": "execute_result"
    }
   ],
   "source": [
    "my_data3.drop(['Open', 'High', 'Low', 'Close'], axis=1, inplace=True)\n",
    "my_data3.columns = ['Price', 'Volume']\n",
    "my_data3.head()"
   ]
  },
  {
   "cell_type": "markdown",
   "metadata": {},
   "source": [
    "### Describing the datasets"
   ]
  },
  {
   "cell_type": "code",
   "execution_count": 22,
   "metadata": {},
   "outputs": [
    {
     "data": {
      "text/html": [
       "<div>\n",
       "<style scoped>\n",
       "    .dataframe tbody tr th:only-of-type {\n",
       "        vertical-align: middle;\n",
       "    }\n",
       "\n",
       "    .dataframe tbody tr th {\n",
       "        vertical-align: top;\n",
       "    }\n",
       "\n",
       "    .dataframe thead th {\n",
       "        text-align: right;\n",
       "    }\n",
       "</style>\n",
       "<table border=\"1\" class=\"dataframe\">\n",
       "  <thead>\n",
       "    <tr style=\"text-align: right;\">\n",
       "      <th></th>\n",
       "      <th>Tweet Count</th>\n",
       "    </tr>\n",
       "  </thead>\n",
       "  <tbody>\n",
       "    <tr>\n",
       "      <th>count</th>\n",
       "      <td>317.000000</td>\n",
       "    </tr>\n",
       "    <tr>\n",
       "      <th>mean</th>\n",
       "      <td>1.511041</td>\n",
       "    </tr>\n",
       "    <tr>\n",
       "      <th>std</th>\n",
       "      <td>0.982781</td>\n",
       "    </tr>\n",
       "    <tr>\n",
       "      <th>min</th>\n",
       "      <td>1.000000</td>\n",
       "    </tr>\n",
       "    <tr>\n",
       "      <th>25%</th>\n",
       "      <td>1.000000</td>\n",
       "    </tr>\n",
       "    <tr>\n",
       "      <th>50%</th>\n",
       "      <td>1.000000</td>\n",
       "    </tr>\n",
       "    <tr>\n",
       "      <th>75%</th>\n",
       "      <td>2.000000</td>\n",
       "    </tr>\n",
       "    <tr>\n",
       "      <th>max</th>\n",
       "      <td>7.000000</td>\n",
       "    </tr>\n",
       "  </tbody>\n",
       "</table>\n",
       "</div>"
      ],
      "text/plain": [
       "       Tweet Count\n",
       "count   317.000000\n",
       "mean      1.511041\n",
       "std       0.982781\n",
       "min       1.000000\n",
       "25%       1.000000\n",
       "50%       1.000000\n",
       "75%       2.000000\n",
       "max       7.000000"
      ]
     },
     "execution_count": 22,
     "metadata": {},
     "output_type": "execute_result"
    }
   ],
   "source": [
    "my_data1new.describe()"
   ]
  },
  {
   "cell_type": "code",
   "execution_count": 25,
   "metadata": {},
   "outputs": [
    {
     "data": {
      "text/html": [
       "<div>\n",
       "<style scoped>\n",
       "    .dataframe tbody tr th:only-of-type {\n",
       "        vertical-align: middle;\n",
       "    }\n",
       "\n",
       "    .dataframe tbody tr th {\n",
       "        vertical-align: top;\n",
       "    }\n",
       "\n",
       "    .dataframe thead th {\n",
       "        text-align: right;\n",
       "    }\n",
       "</style>\n",
       "<table border=\"1\" class=\"dataframe\">\n",
       "  <thead>\n",
       "    <tr style=\"text-align: right;\">\n",
       "      <th></th>\n",
       "      <th>Actual production</th>\n",
       "      <th>Actual Delivery</th>\n",
       "      <th>Production rate per week</th>\n",
       "    </tr>\n",
       "  </thead>\n",
       "  <tbody>\n",
       "    <tr>\n",
       "      <th>count</th>\n",
       "      <td>20.000000</td>\n",
       "      <td>17.000000</td>\n",
       "      <td>10.000000</td>\n",
       "    </tr>\n",
       "    <tr>\n",
       "      <th>mean</th>\n",
       "      <td>14503.050000</td>\n",
       "      <td>15799.235294</td>\n",
       "      <td>795.000000</td>\n",
       "    </tr>\n",
       "    <tr>\n",
       "      <th>std</th>\n",
       "      <td>8152.508826</td>\n",
       "      <td>7750.812026</td>\n",
       "      <td>476.357709</td>\n",
       "    </tr>\n",
       "    <tr>\n",
       "      <th>min</th>\n",
       "      <td>2750.000000</td>\n",
       "      <td>6457.000000</td>\n",
       "      <td>400.000000</td>\n",
       "    </tr>\n",
       "    <tr>\n",
       "      <th>25%</th>\n",
       "      <td>7374.250000</td>\n",
       "      <td>9834.000000</td>\n",
       "      <td>512.500000</td>\n",
       "    </tr>\n",
       "    <tr>\n",
       "      <th>50%</th>\n",
       "      <td>13354.000000</td>\n",
       "      <td>14402.000000</td>\n",
       "      <td>650.000000</td>\n",
       "    </tr>\n",
       "    <tr>\n",
       "      <th>75%</th>\n",
       "      <td>24644.250000</td>\n",
       "      <td>22252.000000</td>\n",
       "      <td>950.000000</td>\n",
       "    </tr>\n",
       "    <tr>\n",
       "      <th>max</th>\n",
       "      <td>25708.000000</td>\n",
       "      <td>29870.000000</td>\n",
       "      <td>2000.000000</td>\n",
       "    </tr>\n",
       "  </tbody>\n",
       "</table>\n",
       "</div>"
      ],
      "text/plain": [
       "       Actual production  Actual Delivery  Production rate per week\n",
       "count          20.000000        17.000000                 10.000000\n",
       "mean        14503.050000     15799.235294                795.000000\n",
       "std          8152.508826      7750.812026                476.357709\n",
       "min          2750.000000      6457.000000                400.000000\n",
       "25%          7374.250000      9834.000000                512.500000\n",
       "50%         13354.000000     14402.000000                650.000000\n",
       "75%         24644.250000     22252.000000                950.000000\n",
       "max         25708.000000     29870.000000               2000.000000"
      ]
     },
     "execution_count": 25,
     "metadata": {},
     "output_type": "execute_result"
    }
   ],
   "source": [
    "my_data2.describe()"
   ]
  },
  {
   "cell_type": "code",
   "execution_count": 26,
   "metadata": {},
   "outputs": [
    {
     "data": {
      "text/html": [
       "<div>\n",
       "<style scoped>\n",
       "    .dataframe tbody tr th:only-of-type {\n",
       "        vertical-align: middle;\n",
       "    }\n",
       "\n",
       "    .dataframe tbody tr th {\n",
       "        vertical-align: top;\n",
       "    }\n",
       "\n",
       "    .dataframe thead th {\n",
       "        text-align: right;\n",
       "    }\n",
       "</style>\n",
       "<table border=\"1\" class=\"dataframe\">\n",
       "  <thead>\n",
       "    <tr style=\"text-align: right;\">\n",
       "      <th></th>\n",
       "      <th>Price</th>\n",
       "      <th>Volume</th>\n",
       "    </tr>\n",
       "  </thead>\n",
       "  <tbody>\n",
       "    <tr>\n",
       "      <th>count</th>\n",
       "      <td>1509.000000</td>\n",
       "      <td>1.509000e+03</td>\n",
       "    </tr>\n",
       "    <tr>\n",
       "      <th>mean</th>\n",
       "      <td>185.624453</td>\n",
       "      <td>5.307573e+06</td>\n",
       "    </tr>\n",
       "    <tr>\n",
       "      <th>std</th>\n",
       "      <td>97.667514</td>\n",
       "      <td>4.313891e+06</td>\n",
       "    </tr>\n",
       "    <tr>\n",
       "      <th>min</th>\n",
       "      <td>22.800000</td>\n",
       "      <td>3.649000e+05</td>\n",
       "    </tr>\n",
       "    <tr>\n",
       "      <th>25%</th>\n",
       "      <td>117.800000</td>\n",
       "      <td>2.570700e+06</td>\n",
       "    </tr>\n",
       "    <tr>\n",
       "      <th>50%</th>\n",
       "      <td>207.800000</td>\n",
       "      <td>4.366700e+06</td>\n",
       "    </tr>\n",
       "    <tr>\n",
       "      <th>75%</th>\n",
       "      <td>247.700000</td>\n",
       "      <td>6.818700e+06</td>\n",
       "    </tr>\n",
       "    <tr>\n",
       "      <th>max</th>\n",
       "      <td>385.000000</td>\n",
       "      <td>3.716390e+07</td>\n",
       "    </tr>\n",
       "  </tbody>\n",
       "</table>\n",
       "</div>"
      ],
      "text/plain": [
       "             Price        Volume\n",
       "count  1509.000000  1.509000e+03\n",
       "mean    185.624453  5.307573e+06\n",
       "std      97.667514  4.313891e+06\n",
       "min      22.800000  3.649000e+05\n",
       "25%     117.800000  2.570700e+06\n",
       "50%     207.800000  4.366700e+06\n",
       "75%     247.700000  6.818700e+06\n",
       "max     385.000000  3.716390e+07"
      ]
     },
     "execution_count": 26,
     "metadata": {},
     "output_type": "execute_result"
    }
   ],
   "source": [
    "my_data3.describe()"
   ]
  },
  {
   "cell_type": "markdown",
   "metadata": {},
   "source": [
    "### Joining tables Stock Price vs Tweet Count df1; Stock Price vs Production df2"
   ]
  },
  {
   "cell_type": "code",
   "execution_count": 27,
   "metadata": {},
   "outputs": [
    {
     "data": {
      "text/html": [
       "<div>\n",
       "<style scoped>\n",
       "    .dataframe tbody tr th:only-of-type {\n",
       "        vertical-align: middle;\n",
       "    }\n",
       "\n",
       "    .dataframe tbody tr th {\n",
       "        vertical-align: top;\n",
       "    }\n",
       "\n",
       "    .dataframe thead th {\n",
       "        text-align: right;\n",
       "    }\n",
       "</style>\n",
       "<table border=\"1\" class=\"dataframe\">\n",
       "  <thead>\n",
       "    <tr style=\"text-align: right;\">\n",
       "      <th></th>\n",
       "      <th>Price</th>\n",
       "      <th>Volume</th>\n",
       "      <th>Tweet Count</th>\n",
       "    </tr>\n",
       "    <tr>\n",
       "      <th>Date</th>\n",
       "      <th></th>\n",
       "      <th></th>\n",
       "      <th></th>\n",
       "    </tr>\n",
       "  </thead>\n",
       "  <tbody>\n",
       "    <tr>\n",
       "      <th>2012-01-05</th>\n",
       "      <td>28.1</td>\n",
       "      <td>928100</td>\n",
       "      <td>NaN</td>\n",
       "    </tr>\n",
       "    <tr>\n",
       "      <th>2012-01-06</th>\n",
       "      <td>27.7</td>\n",
       "      <td>630100</td>\n",
       "      <td>NaN</td>\n",
       "    </tr>\n",
       "    <tr>\n",
       "      <th>2012-01-07</th>\n",
       "      <td>27.1</td>\n",
       "      <td>1005500</td>\n",
       "      <td>NaN</td>\n",
       "    </tr>\n",
       "    <tr>\n",
       "      <th>2012-01-08</th>\n",
       "      <td>26.9</td>\n",
       "      <td>986300</td>\n",
       "      <td>NaN</td>\n",
       "    </tr>\n",
       "    <tr>\n",
       "      <th>2012-01-11</th>\n",
       "      <td>27.3</td>\n",
       "      <td>897000</td>\n",
       "      <td>NaN</td>\n",
       "    </tr>\n",
       "  </tbody>\n",
       "</table>\n",
       "</div>"
      ],
      "text/plain": [
       "            Price   Volume  Tweet Count\n",
       "Date                                   \n",
       "2012-01-05   28.1   928100          NaN\n",
       "2012-01-06   27.7   630100          NaN\n",
       "2012-01-07   27.1  1005500          NaN\n",
       "2012-01-08   26.9   986300          NaN\n",
       "2012-01-11   27.3   897000          NaN"
      ]
     },
     "execution_count": 27,
     "metadata": {},
     "output_type": "execute_result"
    }
   ],
   "source": [
    "df1 = pd.merge(my_data3,my_data1new,how = 'left',on = 'Date') #left joining modified table 1 to table 3\n",
    "df1.head()"
   ]
  },
  {
   "cell_type": "code",
   "execution_count": 28,
   "metadata": {},
   "outputs": [
    {
     "data": {
      "text/html": [
       "<div>\n",
       "<style scoped>\n",
       "    .dataframe tbody tr th:only-of-type {\n",
       "        vertical-align: middle;\n",
       "    }\n",
       "\n",
       "    .dataframe tbody tr th {\n",
       "        vertical-align: top;\n",
       "    }\n",
       "\n",
       "    .dataframe thead th {\n",
       "        text-align: right;\n",
       "    }\n",
       "</style>\n",
       "<table border=\"1\" class=\"dataframe\">\n",
       "  <thead>\n",
       "    <tr style=\"text-align: right;\">\n",
       "      <th></th>\n",
       "      <th>Price</th>\n",
       "      <th>Volume</th>\n",
       "      <th>Actual production</th>\n",
       "      <th>Actual Delivery</th>\n",
       "      <th>Production rate per week</th>\n",
       "    </tr>\n",
       "    <tr>\n",
       "      <th>Date</th>\n",
       "      <th></th>\n",
       "      <th></th>\n",
       "      <th></th>\n",
       "      <th></th>\n",
       "      <th></th>\n",
       "    </tr>\n",
       "  </thead>\n",
       "  <tbody>\n",
       "    <tr>\n",
       "      <th>2012-01-05</th>\n",
       "      <td>28.1</td>\n",
       "      <td>928100</td>\n",
       "      <td>NaN</td>\n",
       "      <td>NaN</td>\n",
       "      <td>NaN</td>\n",
       "    </tr>\n",
       "    <tr>\n",
       "      <th>2012-01-06</th>\n",
       "      <td>27.7</td>\n",
       "      <td>630100</td>\n",
       "      <td>NaN</td>\n",
       "      <td>NaN</td>\n",
       "      <td>NaN</td>\n",
       "    </tr>\n",
       "    <tr>\n",
       "      <th>2012-01-07</th>\n",
       "      <td>27.1</td>\n",
       "      <td>1005500</td>\n",
       "      <td>NaN</td>\n",
       "      <td>NaN</td>\n",
       "      <td>NaN</td>\n",
       "    </tr>\n",
       "    <tr>\n",
       "      <th>2012-01-08</th>\n",
       "      <td>26.9</td>\n",
       "      <td>986300</td>\n",
       "      <td>NaN</td>\n",
       "      <td>NaN</td>\n",
       "      <td>NaN</td>\n",
       "    </tr>\n",
       "    <tr>\n",
       "      <th>2012-01-11</th>\n",
       "      <td>27.3</td>\n",
       "      <td>897000</td>\n",
       "      <td>NaN</td>\n",
       "      <td>NaN</td>\n",
       "      <td>NaN</td>\n",
       "    </tr>\n",
       "  </tbody>\n",
       "</table>\n",
       "</div>"
      ],
      "text/plain": [
       "            Price   Volume  Actual production  Actual Delivery  \\\n",
       "Date                                                             \n",
       "2012-01-05   28.1   928100                NaN              NaN   \n",
       "2012-01-06   27.7   630100                NaN              NaN   \n",
       "2012-01-07   27.1  1005500                NaN              NaN   \n",
       "2012-01-08   26.9   986300                NaN              NaN   \n",
       "2012-01-11   27.3   897000                NaN              NaN   \n",
       "\n",
       "            Production rate per week  \n",
       "Date                                  \n",
       "2012-01-05                       NaN  \n",
       "2012-01-06                       NaN  \n",
       "2012-01-07                       NaN  \n",
       "2012-01-08                       NaN  \n",
       "2012-01-11                       NaN  "
      ]
     },
     "execution_count": 28,
     "metadata": {},
     "output_type": "execute_result"
    }
   ],
   "source": [
    "df2 = pd.merge(my_data3,my_data2,how = 'left',on = 'Date') #left joining table 2 to table 3\n",
    "df2.head()"
   ]
  },
  {
   "cell_type": "markdown",
   "metadata": {},
   "source": [
    "### Dropping rows where 'Tweet Count' is NaN  "
   ]
  },
  {
   "cell_type": "code",
   "execution_count": 29,
   "metadata": {},
   "outputs": [
    {
     "data": {
      "text/html": [
       "<div>\n",
       "<style scoped>\n",
       "    .dataframe tbody tr th:only-of-type {\n",
       "        vertical-align: middle;\n",
       "    }\n",
       "\n",
       "    .dataframe tbody tr th {\n",
       "        vertical-align: top;\n",
       "    }\n",
       "\n",
       "    .dataframe thead th {\n",
       "        text-align: right;\n",
       "    }\n",
       "</style>\n",
       "<table border=\"1\" class=\"dataframe\">\n",
       "  <thead>\n",
       "    <tr style=\"text-align: right;\">\n",
       "      <th></th>\n",
       "      <th>Price</th>\n",
       "      <th>Volume</th>\n",
       "      <th>Tweet Count</th>\n",
       "    </tr>\n",
       "    <tr>\n",
       "      <th>Date</th>\n",
       "      <th></th>\n",
       "      <th></th>\n",
       "      <th></th>\n",
       "    </tr>\n",
       "  </thead>\n",
       "  <tbody>\n",
       "    <tr>\n",
       "      <th>2012-11-18</th>\n",
       "      <td>31.8</td>\n",
       "      <td>908700</td>\n",
       "      <td>1.0</td>\n",
       "    </tr>\n",
       "    <tr>\n",
       "      <th>2012-11-22</th>\n",
       "      <td>33.0</td>\n",
       "      <td>922500</td>\n",
       "      <td>1.0</td>\n",
       "    </tr>\n",
       "    <tr>\n",
       "      <th>2012-12-06</th>\n",
       "      <td>33.9</td>\n",
       "      <td>1263300</td>\n",
       "      <td>1.0</td>\n",
       "    </tr>\n",
       "    <tr>\n",
       "      <th>2012-12-13</th>\n",
       "      <td>35.3</td>\n",
       "      <td>1572600</td>\n",
       "      <td>1.0</td>\n",
       "    </tr>\n",
       "    <tr>\n",
       "      <th>2012-12-14</th>\n",
       "      <td>35.3</td>\n",
       "      <td>2063800</td>\n",
       "      <td>1.0</td>\n",
       "    </tr>\n",
       "  </tbody>\n",
       "</table>\n",
       "</div>"
      ],
      "text/plain": [
       "            Price   Volume  Tweet Count\n",
       "Date                                   \n",
       "2012-11-18   31.8   908700          1.0\n",
       "2012-11-22   33.0   922500          1.0\n",
       "2012-12-06   33.9  1263300          1.0\n",
       "2012-12-13   35.3  1572600          1.0\n",
       "2012-12-14   35.3  2063800          1.0"
      ]
     },
     "execution_count": 29,
     "metadata": {},
     "output_type": "execute_result"
    }
   ],
   "source": [
    "df1.dropna(subset=['Tweet Count'], how='all', inplace = True) \n",
    "df1.head()"
   ]
  },
  {
   "cell_type": "markdown",
   "metadata": {},
   "source": [
    "### 1. As Production numbers stay constant from the time they are announced to the next announcement, Forward filling 'Actual production', 'Actual Delivery' and 'Production rate per week'. \n",
    "### 2. Dropping rows where 'Actual production' & 'Actual Delivery' are both NaN.\n",
    "### 3. Filling remaining NaN at beginning of 'Actual Delivery' with 0."
   ]
  },
  {
   "cell_type": "code",
   "execution_count": 30,
   "metadata": {},
   "outputs": [
    {
     "data": {
      "text/html": [
       "<div>\n",
       "<style scoped>\n",
       "    .dataframe tbody tr th:only-of-type {\n",
       "        vertical-align: middle;\n",
       "    }\n",
       "\n",
       "    .dataframe tbody tr th {\n",
       "        vertical-align: top;\n",
       "    }\n",
       "\n",
       "    .dataframe thead th {\n",
       "        text-align: right;\n",
       "    }\n",
       "</style>\n",
       "<table border=\"1\" class=\"dataframe\">\n",
       "  <thead>\n",
       "    <tr style=\"text-align: right;\">\n",
       "      <th></th>\n",
       "      <th>Price</th>\n",
       "      <th>Volume</th>\n",
       "      <th>Actual production</th>\n",
       "      <th>Actual Delivery</th>\n",
       "      <th>Production rate per week</th>\n",
       "    </tr>\n",
       "    <tr>\n",
       "      <th>Date</th>\n",
       "      <th></th>\n",
       "      <th></th>\n",
       "      <th></th>\n",
       "      <th></th>\n",
       "      <th></th>\n",
       "    </tr>\n",
       "  </thead>\n",
       "  <tbody>\n",
       "    <tr>\n",
       "      <th>2013-05-08</th>\n",
       "      <td>59.5</td>\n",
       "      <td>4366700</td>\n",
       "      <td>4900.0</td>\n",
       "      <td>0.0</td>\n",
       "      <td>400.0</td>\n",
       "    </tr>\n",
       "    <tr>\n",
       "      <th>2013-05-09</th>\n",
       "      <td>55.5</td>\n",
       "      <td>9991000</td>\n",
       "      <td>4900.0</td>\n",
       "      <td>0.0</td>\n",
       "      <td>400.0</td>\n",
       "    </tr>\n",
       "    <tr>\n",
       "      <th>2013-05-10</th>\n",
       "      <td>55.8</td>\n",
       "      <td>6769900</td>\n",
       "      <td>4900.0</td>\n",
       "      <td>0.0</td>\n",
       "      <td>400.0</td>\n",
       "    </tr>\n",
       "    <tr>\n",
       "      <th>2013-05-11</th>\n",
       "      <td>69.4</td>\n",
       "      <td>28605000</td>\n",
       "      <td>4900.0</td>\n",
       "      <td>0.0</td>\n",
       "      <td>400.0</td>\n",
       "    </tr>\n",
       "    <tr>\n",
       "      <th>2013-05-12</th>\n",
       "      <td>76.8</td>\n",
       "      <td>25082600</td>\n",
       "      <td>4900.0</td>\n",
       "      <td>0.0</td>\n",
       "      <td>400.0</td>\n",
       "    </tr>\n",
       "  </tbody>\n",
       "</table>\n",
       "</div>"
      ],
      "text/plain": [
       "            Price    Volume  Actual production  Actual Delivery  \\\n",
       "Date                                                              \n",
       "2013-05-08   59.5   4366700             4900.0              0.0   \n",
       "2013-05-09   55.5   9991000             4900.0              0.0   \n",
       "2013-05-10   55.8   6769900             4900.0              0.0   \n",
       "2013-05-11   69.4  28605000             4900.0              0.0   \n",
       "2013-05-12   76.8  25082600             4900.0              0.0   \n",
       "\n",
       "            Production rate per week  \n",
       "Date                                  \n",
       "2013-05-08                     400.0  \n",
       "2013-05-09                     400.0  \n",
       "2013-05-10                     400.0  \n",
       "2013-05-11                     400.0  \n",
       "2013-05-12                     400.0  "
      ]
     },
     "execution_count": 30,
     "metadata": {},
     "output_type": "execute_result"
    }
   ],
   "source": [
    "df2['Actual production'] = df2['Actual production'].fillna(method='ffill') #Step 1\n",
    "df2['Actual Delivery'] = df2['Actual Delivery'].fillna(method='ffill') #Step 1\n",
    "df2['Production rate per week'] = df2['Production rate per week'].fillna(method='ffill') #Step 1\n",
    "df2.dropna(subset=['Actual production', 'Actual Delivery'], how='all', inplace = True) #Step 2\n",
    "df2['Actual Delivery'] = df2['Actual Delivery'].fillna(0) #Step 3\n",
    "df2.head()"
   ]
  },
  {
   "cell_type": "markdown",
   "metadata": {},
   "source": [
    "## PROJECT PART II: Explorative Data Analysis & Modeling"
   ]
  },
  {
   "cell_type": "code",
   "execution_count": 31,
   "metadata": {},
   "outputs": [
    {
     "data": {
      "text/plain": [
       "<seaborn.axisgrid.PairGrid at 0x1a6a1414348>"
      ]
     },
     "execution_count": 31,
     "metadata": {},
     "output_type": "execute_result"
    },
    {
     "data": {
      "image/png": "[encoded data removed]",
      "text/plain": [
       "<Figure size 540x540 with 12 Axes>"
      ]
     },
     "metadata": {
      "needs_background": "light"
     },
     "output_type": "display_data"
    }
   ],
   "source": [
    "pairplot(df1)"
   ]
  },
  {
   "cell_type": "code",
   "execution_count": 32,
   "metadata": {},
   "outputs": [
    {
     "data": {
      "text/plain": [
       "<seaborn.axisgrid.PairGrid at 0x1a6a1a94c88>"
      ]
     },
     "execution_count": 32,
     "metadata": {},
     "output_type": "execute_result"
    },
    {
     "data": {
      "image/png": "[encoded data removed]",
      "text/plain": [
       "<Figure size 900x900 with 30 Axes>"
      ]
     },
     "metadata": {
      "needs_background": "light"
     },
     "output_type": "display_data"
    }
   ],
   "source": [
    "pairplot(df2)"
   ]
  },
  {
   "cell_type": "code",
   "execution_count": 33,
   "metadata": {},
   "outputs": [
    {
     "data": {
      "text/plain": [
       "<matplotlib.axes._subplots.AxesSubplot at 0x1a6a29d5d88>"
      ]
     },
     "execution_count": 33,
     "metadata": {},
     "output_type": "execute_result"
    },
    {
     "data": {
      "image/png": "[encoded data removed]",
      "text/plain": [
       "<Figure size 432x288 with 2 Axes>"
      ]
     },
     "metadata": {
      "needs_background": "light"
     },
     "output_type": "display_data"
    }
   ],
   "source": [
    "heatmap(df1.corr())"
   ]
  },
  {
   "cell_type": "code",
   "execution_count": 34,
   "metadata": {},
   "outputs": [
    {
     "data": {
      "text/plain": [
       "<matplotlib.axes._subplots.AxesSubplot at 0x1a6a291de08>"
      ]
     },
     "execution_count": 34,
     "metadata": {},
     "output_type": "execute_result"
    },
    {
     "data": {
      "image/png": "[encoded data removed]",
      "text/plain": [
       "<Figure size 432x288 with 2 Axes>"
      ]
     },
     "metadata": {
      "needs_background": "light"
     },
     "output_type": "display_data"
    }
   ],
   "source": [
    "heatmap(df2.corr())"
   ]
  },
  {
   "cell_type": "markdown",
   "metadata": {},
   "source": [
    "### Correlation Matrix"
   ]
  },
  {
   "cell_type": "code",
   "execution_count": 35,
   "metadata": {},
   "outputs": [
    {
     "data": {
      "text/html": [
       "<div>\n",
       "<style scoped>\n",
       "    .dataframe tbody tr th:only-of-type {\n",
       "        vertical-align: middle;\n",
       "    }\n",
       "\n",
       "    .dataframe tbody tr th {\n",
       "        vertical-align: top;\n",
       "    }\n",
       "\n",
       "    .dataframe thead th {\n",
       "        text-align: right;\n",
       "    }\n",
       "</style>\n",
       "<table border=\"1\" class=\"dataframe\">\n",
       "  <thead>\n",
       "    <tr style=\"text-align: right;\">\n",
       "      <th></th>\n",
       "      <th>Price</th>\n",
       "      <th>Volume</th>\n",
       "      <th>Tweet Count</th>\n",
       "    </tr>\n",
       "  </thead>\n",
       "  <tbody>\n",
       "    <tr>\n",
       "      <th>Price</th>\n",
       "      <td>1.000000</td>\n",
       "      <td>0.093814</td>\n",
       "      <td>-0.080606</td>\n",
       "    </tr>\n",
       "    <tr>\n",
       "      <th>Volume</th>\n",
       "      <td>0.093814</td>\n",
       "      <td>1.000000</td>\n",
       "      <td>0.004452</td>\n",
       "    </tr>\n",
       "    <tr>\n",
       "      <th>Tweet Count</th>\n",
       "      <td>-0.080606</td>\n",
       "      <td>0.004452</td>\n",
       "      <td>1.000000</td>\n",
       "    </tr>\n",
       "  </tbody>\n",
       "</table>\n",
       "</div>"
      ],
      "text/plain": [
       "                Price    Volume  Tweet Count\n",
       "Price        1.000000  0.093814    -0.080606\n",
       "Volume       0.093814  1.000000     0.004452\n",
       "Tweet Count -0.080606  0.004452     1.000000"
      ]
     },
     "execution_count": 35,
     "metadata": {},
     "output_type": "execute_result"
    }
   ],
   "source": [
    "rho1 = df1.corr()\n",
    "rho1"
   ]
  },
  {
   "cell_type": "code",
   "execution_count": 36,
   "metadata": {},
   "outputs": [
    {
     "data": {
      "text/html": [
       "<div>\n",
       "<style scoped>\n",
       "    .dataframe tbody tr th:only-of-type {\n",
       "        vertical-align: middle;\n",
       "    }\n",
       "\n",
       "    .dataframe tbody tr th {\n",
       "        vertical-align: top;\n",
       "    }\n",
       "\n",
       "    .dataframe thead th {\n",
       "        text-align: right;\n",
       "    }\n",
       "</style>\n",
       "<table border=\"1\" class=\"dataframe\">\n",
       "  <thead>\n",
       "    <tr style=\"text-align: right;\">\n",
       "      <th></th>\n",
       "      <th>Price</th>\n",
       "      <th>Volume</th>\n",
       "      <th>Actual production</th>\n",
       "      <th>Actual Delivery</th>\n",
       "      <th>Production rate per week</th>\n",
       "    </tr>\n",
       "  </thead>\n",
       "  <tbody>\n",
       "    <tr>\n",
       "      <th>Price</th>\n",
       "      <td>1.000000</td>\n",
       "      <td>-0.263911</td>\n",
       "      <td>0.696120</td>\n",
       "      <td>0.697904</td>\n",
       "      <td>0.670174</td>\n",
       "    </tr>\n",
       "    <tr>\n",
       "      <th>Volume</th>\n",
       "      <td>-0.263911</td>\n",
       "      <td>1.000000</td>\n",
       "      <td>-0.264319</td>\n",
       "      <td>-0.313362</td>\n",
       "      <td>-0.287766</td>\n",
       "    </tr>\n",
       "    <tr>\n",
       "      <th>Actual production</th>\n",
       "      <td>0.696120</td>\n",
       "      <td>-0.264319</td>\n",
       "      <td>1.000000</td>\n",
       "      <td>0.974345</td>\n",
       "      <td>0.966754</td>\n",
       "    </tr>\n",
       "    <tr>\n",
       "      <th>Actual Delivery</th>\n",
       "      <td>0.697904</td>\n",
       "      <td>-0.313362</td>\n",
       "      <td>0.974345</td>\n",
       "      <td>1.000000</td>\n",
       "      <td>0.924239</td>\n",
       "    </tr>\n",
       "    <tr>\n",
       "      <th>Production rate per week</th>\n",
       "      <td>0.670174</td>\n",
       "      <td>-0.287766</td>\n",
       "      <td>0.966754</td>\n",
       "      <td>0.924239</td>\n",
       "      <td>1.000000</td>\n",
       "    </tr>\n",
       "  </tbody>\n",
       "</table>\n",
       "</div>"
      ],
      "text/plain": [
       "                             Price    Volume  Actual production  \\\n",
       "Price                     1.000000 -0.263911           0.696120   \n",
       "Volume                   -0.263911  1.000000          -0.264319   \n",
       "Actual production         0.696120 -0.264319           1.000000   \n",
       "Actual Delivery           0.697904 -0.313362           0.974345   \n",
       "Production rate per week  0.670174 -0.287766           0.966754   \n",
       "\n",
       "                          Actual Delivery  Production rate per week  \n",
       "Price                            0.697904                  0.670174  \n",
       "Volume                          -0.313362                 -0.287766  \n",
       "Actual production                0.974345                  0.966754  \n",
       "Actual Delivery                  1.000000                  0.924239  \n",
       "Production rate per week         0.924239                  1.000000  "
      ]
     },
     "execution_count": 36,
     "metadata": {},
     "output_type": "execute_result"
    }
   ],
   "source": [
    "rho2 = df2.corr()\n",
    "rho2"
   ]
  },
  {
   "cell_type": "markdown",
   "metadata": {},
   "source": [
    "### Observations:\n",
    "### 1.There looks to be a correlation between Actual Production (0.696), Actual Delivery (0.697), Production rate per week (0.670) and Price.\n",
    "### 2. There is a weak correlation between Tweet count and Price (0.149).\n",
    "### 3. Price looks Normally Distributed from the df1 & df2 pairplot histogram."
   ]
  },
  {
   "cell_type": "code",
   "execution_count": 37,
   "metadata": {},
   "outputs": [],
   "source": [
    "x1=df2['Production rate per week']\n",
    "x2=df2['Actual production']\n",
    "x3=df2['Actual Delivery']\n",
    "y1=df2['Price']\n",
    "\n",
    "x4=df1['Tweet Count']\n",
    "y2=df1['Price']"
   ]
  },
  {
   "cell_type": "markdown",
   "metadata": {},
   "source": [
    "### Price vs Production rate per week"
   ]
  },
  {
   "cell_type": "code",
   "execution_count": 38,
   "metadata": {},
   "outputs": [
    {
     "data": {
      "text/plain": [
       "Text(0, 0.5, 'Price')"
      ]
     },
     "execution_count": 38,
     "metadata": {},
     "output_type": "execute_result"
    },
    {
     "data": {
      "image/png": "[encoded data removed]",
      "text/plain": [
       "<Figure size 432x288 with 1 Axes>"
      ]
     },
     "metadata": {
      "needs_background": "light"
     },
     "output_type": "display_data"
    }
   ],
   "source": [
    "plt.scatter(x1,y1)\n",
    "plt.title(\"Price vs Production rate per week\")\n",
    "plt.xlabel(\"Production rate per week\")\n",
    "plt.ylabel(\"Price\")"
   ]
  },
  {
   "cell_type": "code",
   "execution_count": 39,
   "metadata": {},
   "outputs": [
    {
     "name": "stdout",
     "output_type": "stream",
     "text": [
      "beta_0 = 147.5869762022876\n",
      "beta_1 = 0.06989406818504969\n",
      "Sum of squared errors = 2416785.3961032396\n"
     ]
    },
    {
     "data": {
      "text/html": [
       "<div>\n",
       "<style scoped>\n",
       "    .dataframe tbody tr th:only-of-type {\n",
       "        vertical-align: middle;\n",
       "    }\n",
       "\n",
       "    .dataframe tbody tr th {\n",
       "        vertical-align: top;\n",
       "    }\n",
       "\n",
       "    .dataframe thead th {\n",
       "        text-align: right;\n",
       "    }\n",
       "</style>\n",
       "<table border=\"1\" class=\"dataframe\">\n",
       "  <thead>\n",
       "    <tr style=\"text-align: right;\">\n",
       "      <th></th>\n",
       "      <th>Price</th>\n",
       "      <th>Volume</th>\n",
       "      <th>Actual production</th>\n",
       "      <th>Actual Delivery</th>\n",
       "      <th>Production rate per week</th>\n",
       "      <th>y1hat_1</th>\n",
       "    </tr>\n",
       "    <tr>\n",
       "      <th>Date</th>\n",
       "      <th></th>\n",
       "      <th></th>\n",
       "      <th></th>\n",
       "      <th></th>\n",
       "      <th></th>\n",
       "      <th></th>\n",
       "    </tr>\n",
       "  </thead>\n",
       "  <tbody>\n",
       "    <tr>\n",
       "      <th>2013-05-08</th>\n",
       "      <td>59.5</td>\n",
       "      <td>4366700</td>\n",
       "      <td>4900.0</td>\n",
       "      <td>0.0</td>\n",
       "      <td>400.0</td>\n",
       "      <td>175.544603</td>\n",
       "    </tr>\n",
       "    <tr>\n",
       "      <th>2013-05-09</th>\n",
       "      <td>55.5</td>\n",
       "      <td>9991000</td>\n",
       "      <td>4900.0</td>\n",
       "      <td>0.0</td>\n",
       "      <td>400.0</td>\n",
       "      <td>175.544603</td>\n",
       "    </tr>\n",
       "    <tr>\n",
       "      <th>2013-05-10</th>\n",
       "      <td>55.8</td>\n",
       "      <td>6769900</td>\n",
       "      <td>4900.0</td>\n",
       "      <td>0.0</td>\n",
       "      <td>400.0</td>\n",
       "      <td>175.544603</td>\n",
       "    </tr>\n",
       "    <tr>\n",
       "      <th>2013-05-11</th>\n",
       "      <td>69.4</td>\n",
       "      <td>28605000</td>\n",
       "      <td>4900.0</td>\n",
       "      <td>0.0</td>\n",
       "      <td>400.0</td>\n",
       "      <td>175.544603</td>\n",
       "    </tr>\n",
       "    <tr>\n",
       "      <th>2013-05-12</th>\n",
       "      <td>76.8</td>\n",
       "      <td>25082600</td>\n",
       "      <td>4900.0</td>\n",
       "      <td>0.0</td>\n",
       "      <td>400.0</td>\n",
       "      <td>175.544603</td>\n",
       "    </tr>\n",
       "  </tbody>\n",
       "</table>\n",
       "</div>"
      ],
      "text/plain": [
       "            Price    Volume  Actual production  Actual Delivery  \\\n",
       "Date                                                              \n",
       "2013-05-08   59.5   4366700             4900.0              0.0   \n",
       "2013-05-09   55.5   9991000             4900.0              0.0   \n",
       "2013-05-10   55.8   6769900             4900.0              0.0   \n",
       "2013-05-11   69.4  28605000             4900.0              0.0   \n",
       "2013-05-12   76.8  25082600             4900.0              0.0   \n",
       "\n",
       "            Production rate per week     y1hat_1  \n",
       "Date                                              \n",
       "2013-05-08                     400.0  175.544603  \n",
       "2013-05-09                     400.0  175.544603  \n",
       "2013-05-10                     400.0  175.544603  \n",
       "2013-05-11                     400.0  175.544603  \n",
       "2013-05-12                     400.0  175.544603  "
      ]
     },
     "execution_count": 39,
     "metadata": {},
     "output_type": "execute_result"
    }
   ],
   "source": [
    "beta_1 = np.cov(y1, x1)[0,1] / np.cov(y1,x1)[1,1]\n",
    "beta_0 = np.mean(y1) - beta_1 * np.mean(x1)\n",
    "print(\"beta_0 = \" + str(beta_0))\n",
    "print(\"beta_1 = \" + str(beta_1))\n",
    "\n",
    "# add the new yhat to the dataframe\n",
    "df2['y1hat_1'] = beta_0 + beta_1 * df2['Production rate per week']\n",
    "\n",
    "\n",
    "# Compute the sum of squares\n",
    "print(\"Sum of squared errors = \" + str(sum((df2['Price'] - df2['y1hat_1'])**2)))\n",
    "df2.head()"
   ]
  },
  {
   "cell_type": "code",
   "execution_count": 40,
   "metadata": {},
   "outputs": [
    {
     "data": {
      "text/plain": [
       "Text(0, 0.5, 'Predicted Price')"
      ]
     },
     "execution_count": 40,
     "metadata": {},
     "output_type": "execute_result"
    },
    {
     "data": {
      "image/png": "[encoded data removed]",
      "text/plain": [
       "<Figure size 432x288 with 1 Axes>"
      ]
     },
     "metadata": {
      "needs_background": "light"
     },
     "output_type": "display_data"
    }
   ],
   "source": [
    "# Plot the predicted graph\n",
    "plt.scatter(x1,df2['y1hat_1'])\n",
    "plt.title(\"Predicted Price vs Production rate per week\")\n",
    "plt.xlabel(\"Production rate per week\")\n",
    "plt.ylabel(\"Predicted Price\")"
   ]
  },
  {
   "cell_type": "markdown",
   "metadata": {},
   "source": [
    "### Price vs Actual Production"
   ]
  },
  {
   "cell_type": "code",
   "execution_count": 41,
   "metadata": {},
   "outputs": [
    {
     "data": {
      "text/plain": [
       "Text(0, 0.5, 'Price')"
      ]
     },
     "execution_count": 41,
     "metadata": {},
     "output_type": "execute_result"
    },
    {
     "data": {
      "image/png": "[encoded data removed]",
      "text/plain": [
       "<Figure size 432x288 with 1 Axes>"
      ]
     },
     "metadata": {
      "needs_background": "light"
     },
     "output_type": "display_data"
    }
   ],
   "source": [
    "plt.scatter(x2,y1)\n",
    "plt.title(\"Price vs Actual production\")\n",
    "plt.xlabel(\"Actual production\")\n",
    "plt.ylabel(\"Price\")"
   ]
  },
  {
   "cell_type": "code",
   "execution_count": 42,
   "metadata": {},
   "outputs": [
    {
     "name": "stdout",
     "output_type": "stream",
     "text": [
      "beta_0 = 150.4182232122385\n",
      "beta_1 = 0.0056306739595030275\n",
      "Sum of squared errors = 2261260.2671347833\n"
     ]
    },
    {
     "data": {
      "text/html": [
       "<div>\n",
       "<style scoped>\n",
       "    .dataframe tbody tr th:only-of-type {\n",
       "        vertical-align: middle;\n",
       "    }\n",
       "\n",
       "    .dataframe tbody tr th {\n",
       "        vertical-align: top;\n",
       "    }\n",
       "\n",
       "    .dataframe thead th {\n",
       "        text-align: right;\n",
       "    }\n",
       "</style>\n",
       "<table border=\"1\" class=\"dataframe\">\n",
       "  <thead>\n",
       "    <tr style=\"text-align: right;\">\n",
       "      <th></th>\n",
       "      <th>Price</th>\n",
       "      <th>Volume</th>\n",
       "      <th>Actual production</th>\n",
       "      <th>Actual Delivery</th>\n",
       "      <th>Production rate per week</th>\n",
       "      <th>y1hat_1</th>\n",
       "      <th>y1hat_2</th>\n",
       "    </tr>\n",
       "    <tr>\n",
       "      <th>Date</th>\n",
       "      <th></th>\n",
       "      <th></th>\n",
       "      <th></th>\n",
       "      <th></th>\n",
       "      <th></th>\n",
       "      <th></th>\n",
       "      <th></th>\n",
       "    </tr>\n",
       "  </thead>\n",
       "  <tbody>\n",
       "    <tr>\n",
       "      <th>2013-05-08</th>\n",
       "      <td>59.5</td>\n",
       "      <td>4366700</td>\n",
       "      <td>4900.0</td>\n",
       "      <td>0.0</td>\n",
       "      <td>400.0</td>\n",
       "      <td>175.544603</td>\n",
       "      <td>178.008526</td>\n",
       "    </tr>\n",
       "    <tr>\n",
       "      <th>2013-05-09</th>\n",
       "      <td>55.5</td>\n",
       "      <td>9991000</td>\n",
       "      <td>4900.0</td>\n",
       "      <td>0.0</td>\n",
       "      <td>400.0</td>\n",
       "      <td>175.544603</td>\n",
       "      <td>178.008526</td>\n",
       "    </tr>\n",
       "    <tr>\n",
       "      <th>2013-05-10</th>\n",
       "      <td>55.8</td>\n",
       "      <td>6769900</td>\n",
       "      <td>4900.0</td>\n",
       "      <td>0.0</td>\n",
       "      <td>400.0</td>\n",
       "      <td>175.544603</td>\n",
       "      <td>178.008526</td>\n",
       "    </tr>\n",
       "    <tr>\n",
       "      <th>2013-05-11</th>\n",
       "      <td>69.4</td>\n",
       "      <td>28605000</td>\n",
       "      <td>4900.0</td>\n",
       "      <td>0.0</td>\n",
       "      <td>400.0</td>\n",
       "      <td>175.544603</td>\n",
       "      <td>178.008526</td>\n",
       "    </tr>\n",
       "    <tr>\n",
       "      <th>2013-05-12</th>\n",
       "      <td>76.8</td>\n",
       "      <td>25082600</td>\n",
       "      <td>4900.0</td>\n",
       "      <td>0.0</td>\n",
       "      <td>400.0</td>\n",
       "      <td>175.544603</td>\n",
       "      <td>178.008526</td>\n",
       "    </tr>\n",
       "  </tbody>\n",
       "</table>\n",
       "</div>"
      ],
      "text/plain": [
       "            Price    Volume  Actual production  Actual Delivery  \\\n",
       "Date                                                              \n",
       "2013-05-08   59.5   4366700             4900.0              0.0   \n",
       "2013-05-09   55.5   9991000             4900.0              0.0   \n",
       "2013-05-10   55.8   6769900             4900.0              0.0   \n",
       "2013-05-11   69.4  28605000             4900.0              0.0   \n",
       "2013-05-12   76.8  25082600             4900.0              0.0   \n",
       "\n",
       "            Production rate per week     y1hat_1     y1hat_2  \n",
       "Date                                                          \n",
       "2013-05-08                     400.0  175.544603  178.008526  \n",
       "2013-05-09                     400.0  175.544603  178.008526  \n",
       "2013-05-10                     400.0  175.544603  178.008526  \n",
       "2013-05-11                     400.0  175.544603  178.008526  \n",
       "2013-05-12                     400.0  175.544603  178.008526  "
      ]
     },
     "execution_count": 42,
     "metadata": {},
     "output_type": "execute_result"
    }
   ],
   "source": [
    "beta_1 = np.cov(y1, x2)[0,1] / np.cov(y1,x2)[1,1]\n",
    "beta_0 = np.mean(y1) - beta_1 * np.mean(x2)\n",
    "print(\"beta_0 = \" + str(beta_0))\n",
    "print(\"beta_1 = \" + str(beta_1))\n",
    "\n",
    "# add the new yhat to the dataframe\n",
    "df2['y1hat_2'] = beta_0 + beta_1 * df2['Actual production']\n",
    "\n",
    "# Compute the sum of squares\n",
    "print(\"Sum of squared errors = \" + str(sum((df2['Price'] - df2['y1hat_2'])**2)))\n",
    "\n",
    "df2.head()"
   ]
  },
  {
   "cell_type": "code",
   "execution_count": 43,
   "metadata": {},
   "outputs": [
    {
     "data": {
      "text/plain": [
       "Text(0, 0.5, 'Predicted Price')"
      ]
     },
     "execution_count": 43,
     "metadata": {},
     "output_type": "execute_result"
    },
    {
     "data": {
      "image/png": "[encoded data removed]",
      "text/plain": [
       "<Figure size 432x288 with 1 Axes>"
      ]
     },
     "metadata": {
      "needs_background": "light"
     },
     "output_type": "display_data"
    }
   ],
   "source": [
    "# Plot the predicted graph\n",
    "plt.scatter(x2,df2['y1hat_2'])\n",
    "plt.title(\"Predicted Price vs Actual production\")\n",
    "plt.xlabel(\"Actual production\")\n",
    "plt.ylabel(\"Predicted Price\")"
   ]
  },
  {
   "cell_type": "markdown",
   "metadata": {},
   "source": [
    "### Price vs Actual Delivery"
   ]
  },
  {
   "cell_type": "code",
   "execution_count": 44,
   "metadata": {},
   "outputs": [
    {
     "data": {
      "text/plain": [
       "Text(0, 0.5, 'Price')"
      ]
     },
     "execution_count": 44,
     "metadata": {},
     "output_type": "execute_result"
    },
    {
     "data": {
      "image/png": "[encoded data removed]",
      "text/plain": [
       "<Figure size 432x288 with 1 Axes>"
      ]
     },
     "metadata": {
      "needs_background": "light"
     },
     "output_type": "display_data"
    }
   ],
   "source": [
    "plt.scatter(x3,y1)\n",
    "plt.title(\"Price vs Actual Delivery\")\n",
    "plt.xlabel(\"Actual Delivery\")\n",
    "plt.ylabel(\"Price\")"
   ]
  },
  {
   "cell_type": "code",
   "execution_count": 45,
   "metadata": {},
   "outputs": [
    {
     "name": "stdout",
     "output_type": "stream",
     "text": [
      "beta_0 = 170.22732887179532\n",
      "beta_1 = 0.00485812747778017\n",
      "Sum of squared errors = 2250349.556999745\n"
     ]
    },
    {
     "data": {
      "text/html": [
       "<div>\n",
       "<style scoped>\n",
       "    .dataframe tbody tr th:only-of-type {\n",
       "        vertical-align: middle;\n",
       "    }\n",
       "\n",
       "    .dataframe tbody tr th {\n",
       "        vertical-align: top;\n",
       "    }\n",
       "\n",
       "    .dataframe thead th {\n",
       "        text-align: right;\n",
       "    }\n",
       "</style>\n",
       "<table border=\"1\" class=\"dataframe\">\n",
       "  <thead>\n",
       "    <tr style=\"text-align: right;\">\n",
       "      <th></th>\n",
       "      <th>Price</th>\n",
       "      <th>Volume</th>\n",
       "      <th>Actual production</th>\n",
       "      <th>Actual Delivery</th>\n",
       "      <th>Production rate per week</th>\n",
       "      <th>y1hat_1</th>\n",
       "      <th>y1hat_2</th>\n",
       "      <th>y1hat_3</th>\n",
       "    </tr>\n",
       "    <tr>\n",
       "      <th>Date</th>\n",
       "      <th></th>\n",
       "      <th></th>\n",
       "      <th></th>\n",
       "      <th></th>\n",
       "      <th></th>\n",
       "      <th></th>\n",
       "      <th></th>\n",
       "      <th></th>\n",
       "    </tr>\n",
       "  </thead>\n",
       "  <tbody>\n",
       "    <tr>\n",
       "      <th>2013-05-08</th>\n",
       "      <td>59.5</td>\n",
       "      <td>4366700</td>\n",
       "      <td>4900.0</td>\n",
       "      <td>0.0</td>\n",
       "      <td>400.0</td>\n",
       "      <td>175.544603</td>\n",
       "      <td>178.008526</td>\n",
       "      <td>170.227329</td>\n",
       "    </tr>\n",
       "    <tr>\n",
       "      <th>2013-05-09</th>\n",
       "      <td>55.5</td>\n",
       "      <td>9991000</td>\n",
       "      <td>4900.0</td>\n",
       "      <td>0.0</td>\n",
       "      <td>400.0</td>\n",
       "      <td>175.544603</td>\n",
       "      <td>178.008526</td>\n",
       "      <td>170.227329</td>\n",
       "    </tr>\n",
       "    <tr>\n",
       "      <th>2013-05-10</th>\n",
       "      <td>55.8</td>\n",
       "      <td>6769900</td>\n",
       "      <td>4900.0</td>\n",
       "      <td>0.0</td>\n",
       "      <td>400.0</td>\n",
       "      <td>175.544603</td>\n",
       "      <td>178.008526</td>\n",
       "      <td>170.227329</td>\n",
       "    </tr>\n",
       "    <tr>\n",
       "      <th>2013-05-11</th>\n",
       "      <td>69.4</td>\n",
       "      <td>28605000</td>\n",
       "      <td>4900.0</td>\n",
       "      <td>0.0</td>\n",
       "      <td>400.0</td>\n",
       "      <td>175.544603</td>\n",
       "      <td>178.008526</td>\n",
       "      <td>170.227329</td>\n",
       "    </tr>\n",
       "    <tr>\n",
       "      <th>2013-05-12</th>\n",
       "      <td>76.8</td>\n",
       "      <td>25082600</td>\n",
       "      <td>4900.0</td>\n",
       "      <td>0.0</td>\n",
       "      <td>400.0</td>\n",
       "      <td>175.544603</td>\n",
       "      <td>178.008526</td>\n",
       "      <td>170.227329</td>\n",
       "    </tr>\n",
       "  </tbody>\n",
       "</table>\n",
       "</div>"
      ],
      "text/plain": [
       "            Price    Volume  Actual production  Actual Delivery  \\\n",
       "Date                                                              \n",
       "2013-05-08   59.5   4366700             4900.0              0.0   \n",
       "2013-05-09   55.5   9991000             4900.0              0.0   \n",
       "2013-05-10   55.8   6769900             4900.0              0.0   \n",
       "2013-05-11   69.4  28605000             4900.0              0.0   \n",
       "2013-05-12   76.8  25082600             4900.0              0.0   \n",
       "\n",
       "            Production rate per week     y1hat_1     y1hat_2     y1hat_3  \n",
       "Date                                                                      \n",
       "2013-05-08                     400.0  175.544603  178.008526  170.227329  \n",
       "2013-05-09                     400.0  175.544603  178.008526  170.227329  \n",
       "2013-05-10                     400.0  175.544603  178.008526  170.227329  \n",
       "2013-05-11                     400.0  175.544603  178.008526  170.227329  \n",
       "2013-05-12                     400.0  175.544603  178.008526  170.227329  "
      ]
     },
     "execution_count": 45,
     "metadata": {},
     "output_type": "execute_result"
    }
   ],
   "source": [
    "beta_1 = np.cov(y1, x3)[0,1] / np.cov(y1,x3)[1,1]\n",
    "beta_0 = np.mean(y1) - beta_1 * np.mean(x3)\n",
    "print(\"beta_0 = \" + str(beta_0))\n",
    "print(\"beta_1 = \" + str(beta_1))\n",
    "\n",
    "# add the new yhat to the dataframe\n",
    "df2['y1hat_3'] = beta_0 + beta_1 * df2['Actual Delivery']\n",
    "\n",
    "# Compute the sum of squares\n",
    "print(\"Sum of squared errors = \" + str(sum((df2['Price'] - df2['y1hat_3'])**2)))\n",
    "df2.head()"
   ]
  },
  {
   "cell_type": "code",
   "execution_count": 46,
   "metadata": {},
   "outputs": [
    {
     "data": {
      "text/plain": [
       "Text(0, 0.5, 'Predicted Price')"
      ]
     },
     "execution_count": 46,
     "metadata": {},
     "output_type": "execute_result"
    },
    {
     "data": {
      "image/png": "[encoded data removed]",
      "text/plain": [
       "<Figure size 432x288 with 1 Axes>"
      ]
     },
     "metadata": {
      "needs_background": "light"
     },
     "output_type": "display_data"
    }
   ],
   "source": [
    "# Plot the predicted graph\n",
    "plt.scatter(x3,df2['y1hat_3'])\n",
    "plt.title(\"Predicted Price vs Actual Delivery\")\n",
    "plt.xlabel(\"Actual Delivery\")\n",
    "plt.ylabel(\"Predicted Price\")"
   ]
  },
  {
   "cell_type": "markdown",
   "metadata": {},
   "source": [
    "### Price vs Tweet Count"
   ]
  },
  {
   "cell_type": "code",
   "execution_count": 47,
   "metadata": {},
   "outputs": [
    {
     "data": {
      "text/plain": [
       "Text(0, 0.5, 'Price')"
      ]
     },
     "execution_count": 47,
     "metadata": {},
     "output_type": "execute_result"
    },
    {
     "data": {
      "image/png": "[encoded data removed]",
      "text/plain": [
       "<Figure size 432x288 with 1 Axes>"
      ]
     },
     "metadata": {
      "needs_background": "light"
     },
     "output_type": "display_data"
    }
   ],
   "source": [
    "plt.scatter(x4,y2)\n",
    "plt.title(\"Price vs Tweet Count\")\n",
    "plt.xlabel(\"Tweet Count\")\n",
    "plt.ylabel(\"Price\")"
   ]
  },
  {
   "cell_type": "code",
   "execution_count": 48,
   "metadata": {},
   "outputs": [
    {
     "name": "stdout",
     "output_type": "stream",
     "text": [
      "beta_0 = 215.35658423889797\n",
      "beta_1 = -7.57615299050227\n",
      "Sum of squared errors = 1731214.8541576113\n"
     ]
    },
    {
     "data": {
      "text/html": [
       "<div>\n",
       "<style scoped>\n",
       "    .dataframe tbody tr th:only-of-type {\n",
       "        vertical-align: middle;\n",
       "    }\n",
       "\n",
       "    .dataframe tbody tr th {\n",
       "        vertical-align: top;\n",
       "    }\n",
       "\n",
       "    .dataframe thead th {\n",
       "        text-align: right;\n",
       "    }\n",
       "</style>\n",
       "<table border=\"1\" class=\"dataframe\">\n",
       "  <thead>\n",
       "    <tr style=\"text-align: right;\">\n",
       "      <th></th>\n",
       "      <th>Price</th>\n",
       "      <th>Volume</th>\n",
       "      <th>Tweet Count</th>\n",
       "      <th>y2hat_1</th>\n",
       "    </tr>\n",
       "    <tr>\n",
       "      <th>Date</th>\n",
       "      <th></th>\n",
       "      <th></th>\n",
       "      <th></th>\n",
       "      <th></th>\n",
       "    </tr>\n",
       "  </thead>\n",
       "  <tbody>\n",
       "    <tr>\n",
       "      <th>2012-11-18</th>\n",
       "      <td>31.8</td>\n",
       "      <td>908700</td>\n",
       "      <td>1.0</td>\n",
       "      <td>207.780431</td>\n",
       "    </tr>\n",
       "    <tr>\n",
       "      <th>2012-11-22</th>\n",
       "      <td>33.0</td>\n",
       "      <td>922500</td>\n",
       "      <td>1.0</td>\n",
       "      <td>207.780431</td>\n",
       "    </tr>\n",
       "    <tr>\n",
       "      <th>2012-12-06</th>\n",
       "      <td>33.9</td>\n",
       "      <td>1263300</td>\n",
       "      <td>1.0</td>\n",
       "      <td>207.780431</td>\n",
       "    </tr>\n",
       "    <tr>\n",
       "      <th>2012-12-13</th>\n",
       "      <td>35.3</td>\n",
       "      <td>1572600</td>\n",
       "      <td>1.0</td>\n",
       "      <td>207.780431</td>\n",
       "    </tr>\n",
       "    <tr>\n",
       "      <th>2012-12-14</th>\n",
       "      <td>35.3</td>\n",
       "      <td>2063800</td>\n",
       "      <td>1.0</td>\n",
       "      <td>207.780431</td>\n",
       "    </tr>\n",
       "  </tbody>\n",
       "</table>\n",
       "</div>"
      ],
      "text/plain": [
       "            Price   Volume  Tweet Count     y2hat_1\n",
       "Date                                               \n",
       "2012-11-18   31.8   908700          1.0  207.780431\n",
       "2012-11-22   33.0   922500          1.0  207.780431\n",
       "2012-12-06   33.9  1263300          1.0  207.780431\n",
       "2012-12-13   35.3  1572600          1.0  207.780431\n",
       "2012-12-14   35.3  2063800          1.0  207.780431"
      ]
     },
     "execution_count": 48,
     "metadata": {},
     "output_type": "execute_result"
    }
   ],
   "source": [
    "beta_1 = np.cov(y2, x4)[0,1] / np.cov(y2,x4)[1,1]\n",
    "beta_0 = np.mean(y2) - beta_1 * np.mean(x4)\n",
    "print(\"beta_0 = \" + str(beta_0))\n",
    "print(\"beta_1 = \" + str(beta_1))\n",
    "\n",
    "# add the new yhat to the dataframe\n",
    "df1['y2hat_1'] = beta_0 + beta_1 * df1['Tweet Count']\n",
    "\n",
    "# Compute the sum of squares\n",
    "print(\"Sum of squared errors = \" + str(sum((df1['Price'] - df1['y2hat_1'])**2)))\n",
    "df1.head()"
   ]
  },
  {
   "cell_type": "code",
   "execution_count": 49,
   "metadata": {},
   "outputs": [
    {
     "data": {
      "text/plain": [
       "Text(0, 0.5, 'Predicted Price')"
      ]
     },
     "execution_count": 49,
     "metadata": {},
     "output_type": "execute_result"
    },
    {
     "data": {
      "image/png": "[encoded data removed]",
      "text/plain": [
       "<Figure size 432x288 with 1 Axes>"
      ]
     },
     "metadata": {
      "needs_background": "light"
     },
     "output_type": "display_data"
    }
   ],
   "source": [
    "# Plot the predicted graph\n",
    "plt.scatter(x4,df1['y2hat_1'])\n",
    "plt.title(\"Predicted Price vs Tweet Count\")\n",
    "plt.xlabel(\"Tweet Count\")\n",
    "plt.ylabel(\"Predicted Price\")"
   ]
  },
  {
   "cell_type": "code",
   "execution_count": 50,
   "metadata": {},
   "outputs": [
    {
     "data": {
      "text/plain": [
       "<matplotlib.axes._subplots.AxesSubplot at 0x1a6a480eb88>"
      ]
     },
     "execution_count": 50,
     "metadata": {},
     "output_type": "execute_result"
    },
    {
     "data": {
      "image/png": "[encoded data removed]",
      "text/plain": [
       "<Figure size 432x288 with 1 Axes>"
      ]
     },
     "metadata": {
      "needs_background": "light"
     },
     "output_type": "display_data"
    }
   ],
   "source": [
    "distplot(y1, kde = False)"
   ]
  },
  {
   "cell_type": "code",
   "execution_count": 51,
   "metadata": {},
   "outputs": [
    {
     "data": {
      "text/plain": [
       "<matplotlib.axes._subplots.AxesSubplot at 0x1a6a48cba48>"
      ]
     },
     "execution_count": 51,
     "metadata": {},
     "output_type": "execute_result"
    },
    {
     "data": {
      "image/png": "[encoded data removed]",
      "text/plain": [
       "<Figure size 432x288 with 1 Axes>"
      ]
     },
     "metadata": {
      "needs_background": "light"
     },
     "output_type": "display_data"
    }
   ],
   "source": [
    "distplot(y2, kde = False)"
   ]
  },
  {
   "cell_type": "markdown",
   "metadata": {},
   "source": [
    "### Linear Regression with `Statsmodels`"
   ]
  },
  {
   "cell_type": "code",
   "execution_count": 52,
   "metadata": {
    "scrolled": true
   },
   "outputs": [
    {
     "data": {
      "text/html": [
       "<table class=\"simpletable\">\n",
       "<caption>OLS Regression Results</caption>\n",
       "<tr>\n",
       "  <th>Dep. Variable:</th>          <td>Price</td>      <th>  R-squared:         </th> <td>   0.497</td> \n",
       "</tr>\n",
       "<tr>\n",
       "  <th>Model:</th>                   <td>OLS</td>       <th>  Adj. R-squared:    </th> <td>   0.496</td> \n",
       "</tr>\n",
       "<tr>\n",
       "  <th>Method:</th>             <td>Least Squares</td>  <th>  F-statistic:       </th> <td>   385.1</td> \n",
       "</tr>\n",
       "<tr>\n",
       "  <th>Date:</th>             <td>Fri, 10 Jul 2020</td> <th>  Prob (F-statistic):</th> <td>5.96e-174</td>\n",
       "</tr>\n",
       "<tr>\n",
       "  <th>Time:</th>                 <td>11:41:00</td>     <th>  Log-Likelihood:    </th> <td> -6091.3</td> \n",
       "</tr>\n",
       "<tr>\n",
       "  <th>No. Observations:</th>      <td>  1174</td>      <th>  AIC:               </th> <td>1.219e+04</td>\n",
       "</tr>\n",
       "<tr>\n",
       "  <th>Df Residuals:</th>          <td>  1170</td>      <th>  BIC:               </th> <td>1.221e+04</td>\n",
       "</tr>\n",
       "<tr>\n",
       "  <th>Df Model:</th>              <td>     3</td>      <th>                     </th>     <td> </td>    \n",
       "</tr>\n",
       "<tr>\n",
       "  <th>Covariance Type:</th>      <td>nonrobust</td>    <th>                     </th>     <td> </td>    \n",
       "</tr>\n",
       "</table>\n",
       "<table class=\"simpletable\">\n",
       "<tr>\n",
       "                       <td></td>                         <th>coef</th>     <th>std err</th>      <th>t</th>      <th>P>|t|</th>  <th>[0.025</th>    <th>0.975]</th>  \n",
       "</tr>\n",
       "<tr>\n",
       "  <th>Intercept</th>                                  <td>  143.5183</td> <td>    6.254</td> <td>   22.948</td> <td> 0.000</td> <td>  131.248</td> <td>  155.789</td>\n",
       "</tr>\n",
       "<tr>\n",
       "  <th>Q(\"Actual production\")</th>                     <td>    0.0065</td> <td>    0.001</td> <td>    4.623</td> <td> 0.000</td> <td>    0.004</td> <td>    0.009</td>\n",
       "</tr>\n",
       "<tr>\n",
       "  <th>Q(\"Actual Delivery\")</th>                       <td>    0.0011</td> <td>    0.001</td> <td>    1.383</td> <td> 0.167</td> <td>   -0.000</td> <td>    0.003</td>\n",
       "</tr>\n",
       "<tr>\n",
       "  <th>np.power(Q(\"Production rate per week\"), 2)</th> <td>-1.082e-05</td> <td> 3.29e-06</td> <td>   -3.290</td> <td> 0.001</td> <td>-1.73e-05</td> <td>-4.37e-06</td>\n",
       "</tr>\n",
       "</table>\n",
       "<table class=\"simpletable\">\n",
       "<tr>\n",
       "  <th>Omnibus:</th>       <td>27.507</td> <th>  Durbin-Watson:     </th> <td>   0.021</td>\n",
       "</tr>\n",
       "<tr>\n",
       "  <th>Prob(Omnibus):</th> <td> 0.000</td> <th>  Jarque-Bera (JB):  </th> <td>  27.084</td>\n",
       "</tr>\n",
       "<tr>\n",
       "  <th>Skew:</th>          <td>-0.340</td> <th>  Prob(JB):          </th> <td>1.31e-06</td>\n",
       "</tr>\n",
       "<tr>\n",
       "  <th>Kurtosis:</th>      <td> 2.698</td> <th>  Cond. No.          </th> <td>1.14e+07</td>\n",
       "</tr>\n",
       "</table><br/><br/>Warnings:<br/>[1] Standard Errors assume that the covariance matrix of the errors is correctly specified.<br/>[2] The condition number is large, 1.14e+07. This might indicate that there are<br/>strong multicollinearity or other numerical problems."
      ],
      "text/plain": [
       "<class 'statsmodels.iolib.summary.Summary'>\n",
       "\"\"\"\n",
       "                            OLS Regression Results                            \n",
       "==============================================================================\n",
       "Dep. Variable:                  Price   R-squared:                       0.497\n",
       "Model:                            OLS   Adj. R-squared:                  0.496\n",
       "Method:                 Least Squares   F-statistic:                     385.1\n",
       "Date:                Fri, 10 Jul 2020   Prob (F-statistic):          5.96e-174\n",
       "Time:                        11:41:00   Log-Likelihood:                -6091.3\n",
       "No. Observations:                1174   AIC:                         1.219e+04\n",
       "Df Residuals:                    1170   BIC:                         1.221e+04\n",
       "Df Model:                           3                                         \n",
       "Covariance Type:            nonrobust                                         \n",
       "==============================================================================================================\n",
       "                                                 coef    std err          t      P>|t|      [0.025      0.975]\n",
       "--------------------------------------------------------------------------------------------------------------\n",
       "Intercept                                    143.5183      6.254     22.948      0.000     131.248     155.789\n",
       "Q(\"Actual production\")                         0.0065      0.001      4.623      0.000       0.004       0.009\n",
       "Q(\"Actual Delivery\")                           0.0011      0.001      1.383      0.167      -0.000       0.003\n",
       "np.power(Q(\"Production rate per week\"), 2) -1.082e-05   3.29e-06     -3.290      0.001   -1.73e-05   -4.37e-06\n",
       "==============================================================================\n",
       "Omnibus:                       27.507   Durbin-Watson:                   0.021\n",
       "Prob(Omnibus):                  0.000   Jarque-Bera (JB):               27.084\n",
       "Skew:                          -0.340   Prob(JB):                     1.31e-06\n",
       "Kurtosis:                       2.698   Cond. No.                     1.14e+07\n",
       "==============================================================================\n",
       "\n",
       "Warnings:\n",
       "[1] Standard Errors assume that the covariance matrix of the errors is correctly specified.\n",
       "[2] The condition number is large, 1.14e+07. This might indicate that there are\n",
       "strong multicollinearity or other numerical problems.\n",
       "\"\"\""
      ]
     },
     "execution_count": 52,
     "metadata": {},
     "output_type": "execute_result"
    }
   ],
   "source": [
    "test1 = smf.ols('Price ~ Q(\"Actual production\") + Q(\"Actual Delivery\") + np.power(Q(\"Production rate per week\"), 2)', data=df2).fit()\n",
    "test1.summary()"
   ]
  },
  {
   "cell_type": "code",
   "execution_count": 53,
   "metadata": {},
   "outputs": [
    {
     "data": {
      "text/html": [
       "<table class=\"simpletable\">\n",
       "<caption>OLS Regression Results</caption>\n",
       "<tr>\n",
       "  <th>Dep. Variable:</th>          <td>Price</td>      <th>  R-squared:         </th> <td>   0.006</td>\n",
       "</tr>\n",
       "<tr>\n",
       "  <th>Model:</th>                   <td>OLS</td>       <th>  Adj. R-squared:    </th> <td>   0.002</td>\n",
       "</tr>\n",
       "<tr>\n",
       "  <th>Method:</th>             <td>Least Squares</td>  <th>  F-statistic:       </th> <td>   1.537</td>\n",
       "</tr>\n",
       "<tr>\n",
       "  <th>Date:</th>             <td>Fri, 10 Jul 2020</td> <th>  Prob (F-statistic):</th>  <td> 0.216</td> \n",
       "</tr>\n",
       "<tr>\n",
       "  <th>Time:</th>                 <td>11:41:00</td>     <th>  Log-Likelihood:    </th> <td> -1390.5</td>\n",
       "</tr>\n",
       "<tr>\n",
       "  <th>No. Observations:</th>      <td>   237</td>      <th>  AIC:               </th> <td>   2785.</td>\n",
       "</tr>\n",
       "<tr>\n",
       "  <th>Df Residuals:</th>          <td>   235</td>      <th>  BIC:               </th> <td>   2792.</td>\n",
       "</tr>\n",
       "<tr>\n",
       "  <th>Df Model:</th>              <td>     1</td>      <th>                     </th>     <td> </td>   \n",
       "</tr>\n",
       "<tr>\n",
       "  <th>Covariance Type:</th>      <td>nonrobust</td>    <th>                     </th>     <td> </td>   \n",
       "</tr>\n",
       "</table>\n",
       "<table class=\"simpletable\">\n",
       "<tr>\n",
       "          <td></td>            <th>coef</th>     <th>std err</th>      <th>t</th>      <th>P>|t|</th>  <th>[0.025</th>    <th>0.975]</th>  \n",
       "</tr>\n",
       "<tr>\n",
       "  <th>Intercept</th>        <td>  215.3566</td> <td>   10.740</td> <td>   20.051</td> <td> 0.000</td> <td>  194.197</td> <td>  236.516</td>\n",
       "</tr>\n",
       "<tr>\n",
       "  <th>Q(\"Tweet Count\")</th> <td>   -7.5762</td> <td>    6.111</td> <td>   -1.240</td> <td> 0.216</td> <td>  -19.616</td> <td>    4.464</td>\n",
       "</tr>\n",
       "</table>\n",
       "<table class=\"simpletable\">\n",
       "<tr>\n",
       "  <th>Omnibus:</th>       <td> 5.660</td> <th>  Durbin-Watson:     </th> <td>   0.035</td>\n",
       "</tr>\n",
       "<tr>\n",
       "  <th>Prob(Omnibus):</th> <td> 0.059</td> <th>  Jarque-Bera (JB):  </th> <td>   5.778</td>\n",
       "</tr>\n",
       "<tr>\n",
       "  <th>Skew:</th>          <td>-0.378</td> <th>  Prob(JB):          </th> <td>  0.0556</td>\n",
       "</tr>\n",
       "<tr>\n",
       "  <th>Kurtosis:</th>      <td> 2.884</td> <th>  Cond. No.          </th> <td>    4.25</td>\n",
       "</tr>\n",
       "</table><br/><br/>Warnings:<br/>[1] Standard Errors assume that the covariance matrix of the errors is correctly specified."
      ],
      "text/plain": [
       "<class 'statsmodels.iolib.summary.Summary'>\n",
       "\"\"\"\n",
       "                            OLS Regression Results                            \n",
       "==============================================================================\n",
       "Dep. Variable:                  Price   R-squared:                       0.006\n",
       "Model:                            OLS   Adj. R-squared:                  0.002\n",
       "Method:                 Least Squares   F-statistic:                     1.537\n",
       "Date:                Fri, 10 Jul 2020   Prob (F-statistic):              0.216\n",
       "Time:                        11:41:00   Log-Likelihood:                -1390.5\n",
       "No. Observations:                 237   AIC:                             2785.\n",
       "Df Residuals:                     235   BIC:                             2792.\n",
       "Df Model:                           1                                         \n",
       "Covariance Type:            nonrobust                                         \n",
       "====================================================================================\n",
       "                       coef    std err          t      P>|t|      [0.025      0.975]\n",
       "------------------------------------------------------------------------------------\n",
       "Intercept          215.3566     10.740     20.051      0.000     194.197     236.516\n",
       "Q(\"Tweet Count\")    -7.5762      6.111     -1.240      0.216     -19.616       4.464\n",
       "==============================================================================\n",
       "Omnibus:                        5.660   Durbin-Watson:                   0.035\n",
       "Prob(Omnibus):                  0.059   Jarque-Bera (JB):                5.778\n",
       "Skew:                          -0.378   Prob(JB):                       0.0556\n",
       "Kurtosis:                       2.884   Cond. No.                         4.25\n",
       "==============================================================================\n",
       "\n",
       "Warnings:\n",
       "[1] Standard Errors assume that the covariance matrix of the errors is correctly specified.\n",
       "\"\"\""
      ]
     },
     "execution_count": 53,
     "metadata": {},
     "output_type": "execute_result"
    }
   ],
   "source": [
    "test2 = smf.ols('Price ~  Q(\"Tweet Count\")', data=df1).fit()\n",
    "test2.summary()"
   ]
  },
  {
   "cell_type": "markdown",
   "metadata": {},
   "source": [
    "## PROJECT PART III: Model Validation"
   ]
  },
  {
   "cell_type": "markdown",
   "metadata": {},
   "source": [
    "### We can use Shapiro test to determine if the Price Histogram is Normally distributed, with significance level $0.01$"
   ]
  },
  {
   "cell_type": "code",
   "execution_count": 54,
   "metadata": {},
   "outputs": [
    {
     "data": {
      "text/plain": [
       "(0.972775399684906, 4.634121997812782e-14)"
      ]
     },
     "execution_count": 54,
     "metadata": {},
     "output_type": "execute_result"
    }
   ],
   "source": [
    "stats.shapiro(y1)"
   ]
  },
  {
   "cell_type": "code",
   "execution_count": 55,
   "metadata": {},
   "outputs": [
    {
     "data": {
      "text/plain": [
       "(0.9331221580505371, 6.651008632729827e-09)"
      ]
     },
     "execution_count": 55,
     "metadata": {},
     "output_type": "execute_result"
    }
   ],
   "source": [
    "stats.shapiro(y2)"
   ]
  },
  {
   "cell_type": "markdown",
   "metadata": {},
   "source": [
    "### Since the p-value for both y1 & y2 <<<<<<<  0.01, we reject the null hypothesis that y1 & y2 are normally distributed. "
   ]
  }
 ],
 "metadata": {
  "kernelspec": {
   "display_name": "Python 3",
   "language": "python",
   "name": "python3"
  },
  "language_info": {
   "codemirror_mode": {
    "name": "ipython",
    "version": 3
   },
   "file_extension": ".py",
   "mimetype": "text/x-python",
   "name": "python",
   "nbconvert_exporter": "python",
   "pygments_lexer": "ipython3",
   "version": "3.7.6"
  }
 },
 "nbformat": 4,
 "nbformat_minor": 4
}
